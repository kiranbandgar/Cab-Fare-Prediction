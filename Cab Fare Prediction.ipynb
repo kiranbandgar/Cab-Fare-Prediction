{
 "cells": [
  {
   "cell_type": "code",
   "execution_count": 1,
   "id": "5cd45d0d",
   "metadata": {},
   "outputs": [],
   "source": [
    "import numpy as np\n",
    "import pandas as pd\n",
    "import matplotlib.pyplot as plt\n",
    "import seaborn as sns\n",
    "from sklearn.model_selection import train_test_split\n",
    "from sklearn.metrics import mean_squared_error, r2_score\n",
    "from sklearn.linear_model import LinearRegression\n",
    "from sklearn.ensemble import RandomForestRegressor\n",
    "from sklearn.tree import DecisionTreeRegressor\n",
    "from sklearn.ensemble import GradientBoostingRegressor\n",
    "from sklearn.model_selection import RandomizedSearchCV, GridSearchCV\n",
    "import warnings \n",
    "warnings.filterwarnings('ignore')\n",
    "import pickle"
   ]
  },
  {
   "cell_type": "code",
   "execution_count": 2,
   "id": "e4c6861b",
   "metadata": {},
   "outputs": [],
   "source": [
    "train = pd.read_csv('train_cab.csv')"
   ]
  },
  {
   "cell_type": "code",
   "execution_count": 3,
   "id": "9a296c2f",
   "metadata": {},
   "outputs": [
    {
     "data": {
      "text/html": [
       "<div>\n",
       "<style scoped>\n",
       "    .dataframe tbody tr th:only-of-type {\n",
       "        vertical-align: middle;\n",
       "    }\n",
       "\n",
       "    .dataframe tbody tr th {\n",
       "        vertical-align: top;\n",
       "    }\n",
       "\n",
       "    .dataframe thead th {\n",
       "        text-align: right;\n",
       "    }\n",
       "</style>\n",
       "<table border=\"1\" class=\"dataframe\">\n",
       "  <thead>\n",
       "    <tr style=\"text-align: right;\">\n",
       "      <th></th>\n",
       "      <th>fare_amount</th>\n",
       "      <th>pickup_datetime</th>\n",
       "      <th>pickup_longitude</th>\n",
       "      <th>pickup_latitude</th>\n",
       "      <th>dropoff_longitude</th>\n",
       "      <th>dropoff_latitude</th>\n",
       "      <th>passenger_count</th>\n",
       "    </tr>\n",
       "  </thead>\n",
       "  <tbody>\n",
       "    <tr>\n",
       "      <th>0</th>\n",
       "      <td>4.5</td>\n",
       "      <td>2009-06-15 17:26:21 UTC</td>\n",
       "      <td>-73.844311</td>\n",
       "      <td>40.721319</td>\n",
       "      <td>-73.841610</td>\n",
       "      <td>40.712278</td>\n",
       "      <td>1.0</td>\n",
       "    </tr>\n",
       "    <tr>\n",
       "      <th>1</th>\n",
       "      <td>16.9</td>\n",
       "      <td>2010-01-05 16:52:16 UTC</td>\n",
       "      <td>-74.016048</td>\n",
       "      <td>40.711303</td>\n",
       "      <td>-73.979268</td>\n",
       "      <td>40.782004</td>\n",
       "      <td>1.0</td>\n",
       "    </tr>\n",
       "    <tr>\n",
       "      <th>2</th>\n",
       "      <td>5.7</td>\n",
       "      <td>2011-08-18 00:35:00 UTC</td>\n",
       "      <td>-73.982738</td>\n",
       "      <td>40.761270</td>\n",
       "      <td>-73.991242</td>\n",
       "      <td>40.750562</td>\n",
       "      <td>2.0</td>\n",
       "    </tr>\n",
       "    <tr>\n",
       "      <th>3</th>\n",
       "      <td>7.7</td>\n",
       "      <td>2012-04-21 04:30:42 UTC</td>\n",
       "      <td>-73.987130</td>\n",
       "      <td>40.733143</td>\n",
       "      <td>-73.991567</td>\n",
       "      <td>40.758092</td>\n",
       "      <td>1.0</td>\n",
       "    </tr>\n",
       "    <tr>\n",
       "      <th>4</th>\n",
       "      <td>5.3</td>\n",
       "      <td>2010-03-09 07:51:00 UTC</td>\n",
       "      <td>-73.968095</td>\n",
       "      <td>40.768008</td>\n",
       "      <td>-73.956655</td>\n",
       "      <td>40.783762</td>\n",
       "      <td>1.0</td>\n",
       "    </tr>\n",
       "  </tbody>\n",
       "</table>\n",
       "</div>"
      ],
      "text/plain": [
       "  fare_amount          pickup_datetime  pickup_longitude  pickup_latitude  \\\n",
       "0         4.5  2009-06-15 17:26:21 UTC        -73.844311        40.721319   \n",
       "1        16.9  2010-01-05 16:52:16 UTC        -74.016048        40.711303   \n",
       "2         5.7  2011-08-18 00:35:00 UTC        -73.982738        40.761270   \n",
       "3         7.7  2012-04-21 04:30:42 UTC        -73.987130        40.733143   \n",
       "4         5.3  2010-03-09 07:51:00 UTC        -73.968095        40.768008   \n",
       "\n",
       "   dropoff_longitude  dropoff_latitude  passenger_count  \n",
       "0         -73.841610         40.712278              1.0  \n",
       "1         -73.979268         40.782004              1.0  \n",
       "2         -73.991242         40.750562              2.0  \n",
       "3         -73.991567         40.758092              1.0  \n",
       "4         -73.956655         40.783762              1.0  "
      ]
     },
     "execution_count": 3,
     "metadata": {},
     "output_type": "execute_result"
    }
   ],
   "source": [
    "train.head()"
   ]
  },
  {
   "cell_type": "code",
   "execution_count": 4,
   "id": "4256b4f6",
   "metadata": {},
   "outputs": [],
   "source": [
    "test = pd.read_csv('test_cab.csv')"
   ]
  },
  {
   "cell_type": "code",
   "execution_count": 5,
   "id": "8d187acd",
   "metadata": {},
   "outputs": [
    {
     "data": {
      "text/html": [
       "<div>\n",
       "<style scoped>\n",
       "    .dataframe tbody tr th:only-of-type {\n",
       "        vertical-align: middle;\n",
       "    }\n",
       "\n",
       "    .dataframe tbody tr th {\n",
       "        vertical-align: top;\n",
       "    }\n",
       "\n",
       "    .dataframe thead th {\n",
       "        text-align: right;\n",
       "    }\n",
       "</style>\n",
       "<table border=\"1\" class=\"dataframe\">\n",
       "  <thead>\n",
       "    <tr style=\"text-align: right;\">\n",
       "      <th></th>\n",
       "      <th>pickup_datetime</th>\n",
       "      <th>pickup_longitude</th>\n",
       "      <th>pickup_latitude</th>\n",
       "      <th>dropoff_longitude</th>\n",
       "      <th>dropoff_latitude</th>\n",
       "      <th>passenger_count</th>\n",
       "    </tr>\n",
       "  </thead>\n",
       "  <tbody>\n",
       "    <tr>\n",
       "      <th>0</th>\n",
       "      <td>2015-01-27 13:08:24 UTC</td>\n",
       "      <td>-73.973320</td>\n",
       "      <td>40.763805</td>\n",
       "      <td>-73.981430</td>\n",
       "      <td>40.743835</td>\n",
       "      <td>1</td>\n",
       "    </tr>\n",
       "    <tr>\n",
       "      <th>1</th>\n",
       "      <td>2015-01-27 13:08:24 UTC</td>\n",
       "      <td>-73.986862</td>\n",
       "      <td>40.719383</td>\n",
       "      <td>-73.998886</td>\n",
       "      <td>40.739201</td>\n",
       "      <td>1</td>\n",
       "    </tr>\n",
       "    <tr>\n",
       "      <th>2</th>\n",
       "      <td>2011-10-08 11:53:44 UTC</td>\n",
       "      <td>-73.982524</td>\n",
       "      <td>40.751260</td>\n",
       "      <td>-73.979654</td>\n",
       "      <td>40.746139</td>\n",
       "      <td>1</td>\n",
       "    </tr>\n",
       "    <tr>\n",
       "      <th>3</th>\n",
       "      <td>2012-12-01 21:12:12 UTC</td>\n",
       "      <td>-73.981160</td>\n",
       "      <td>40.767807</td>\n",
       "      <td>-73.990448</td>\n",
       "      <td>40.751635</td>\n",
       "      <td>1</td>\n",
       "    </tr>\n",
       "    <tr>\n",
       "      <th>4</th>\n",
       "      <td>2012-12-01 21:12:12 UTC</td>\n",
       "      <td>-73.966046</td>\n",
       "      <td>40.789775</td>\n",
       "      <td>-73.988565</td>\n",
       "      <td>40.744427</td>\n",
       "      <td>1</td>\n",
       "    </tr>\n",
       "  </tbody>\n",
       "</table>\n",
       "</div>"
      ],
      "text/plain": [
       "           pickup_datetime  pickup_longitude  pickup_latitude  \\\n",
       "0  2015-01-27 13:08:24 UTC        -73.973320        40.763805   \n",
       "1  2015-01-27 13:08:24 UTC        -73.986862        40.719383   \n",
       "2  2011-10-08 11:53:44 UTC        -73.982524        40.751260   \n",
       "3  2012-12-01 21:12:12 UTC        -73.981160        40.767807   \n",
       "4  2012-12-01 21:12:12 UTC        -73.966046        40.789775   \n",
       "\n",
       "   dropoff_longitude  dropoff_latitude  passenger_count  \n",
       "0         -73.981430         40.743835                1  \n",
       "1         -73.998886         40.739201                1  \n",
       "2         -73.979654         40.746139                1  \n",
       "3         -73.990448         40.751635                1  \n",
       "4         -73.988565         40.744427                1  "
      ]
     },
     "execution_count": 5,
     "metadata": {},
     "output_type": "execute_result"
    }
   ],
   "source": [
    "test.head()"
   ]
  },
  {
   "cell_type": "code",
   "execution_count": 6,
   "id": "08daf918",
   "metadata": {},
   "outputs": [
    {
     "name": "stdout",
     "output_type": "stream",
     "text": [
      "(16067, 7)\n",
      "(9914, 6)\n"
     ]
    }
   ],
   "source": [
    "print(train.shape)\n",
    "print(test.shape)"
   ]
  },
  {
   "cell_type": "code",
   "execution_count": 7,
   "id": "9ef53ff7",
   "metadata": {},
   "outputs": [
    {
     "name": "stdout",
     "output_type": "stream",
     "text": [
      "<class 'pandas.core.frame.DataFrame'>\n",
      "RangeIndex: 16067 entries, 0 to 16066\n",
      "Data columns (total 7 columns):\n",
      " #   Column             Non-Null Count  Dtype  \n",
      "---  ------             --------------  -----  \n",
      " 0   fare_amount        16043 non-null  object \n",
      " 1   pickup_datetime    16067 non-null  object \n",
      " 2   pickup_longitude   16067 non-null  float64\n",
      " 3   pickup_latitude    16067 non-null  float64\n",
      " 4   dropoff_longitude  16067 non-null  float64\n",
      " 5   dropoff_latitude   16067 non-null  float64\n",
      " 6   passenger_count    16012 non-null  float64\n",
      "dtypes: float64(5), object(2)\n",
      "memory usage: 878.8+ KB\n"
     ]
    }
   ],
   "source": [
    "train.info()"
   ]
  },
  {
   "cell_type": "code",
   "execution_count": 8,
   "id": "7969d704",
   "metadata": {},
   "outputs": [
    {
     "name": "stdout",
     "output_type": "stream",
     "text": [
      "<class 'pandas.core.frame.DataFrame'>\n",
      "RangeIndex: 9914 entries, 0 to 9913\n",
      "Data columns (total 6 columns):\n",
      " #   Column             Non-Null Count  Dtype  \n",
      "---  ------             --------------  -----  \n",
      " 0   pickup_datetime    9914 non-null   object \n",
      " 1   pickup_longitude   9914 non-null   float64\n",
      " 2   pickup_latitude    9914 non-null   float64\n",
      " 3   dropoff_longitude  9914 non-null   float64\n",
      " 4   dropoff_latitude   9914 non-null   float64\n",
      " 5   passenger_count    9914 non-null   int64  \n",
      "dtypes: float64(4), int64(1), object(1)\n",
      "memory usage: 464.8+ KB\n"
     ]
    }
   ],
   "source": [
    "test.info()"
   ]
  },
  {
   "cell_type": "code",
   "execution_count": 9,
   "id": "dbeab2ad",
   "metadata": {},
   "outputs": [],
   "source": [
    "# Here in trin dataset fare is in object datatype convert it into numerical\n",
    "train['fare_amount'] = pd.to_numeric(train['fare_amount'],errors='coerce')"
   ]
  },
  {
   "cell_type": "code",
   "execution_count": 10,
   "id": "8d543ce2",
   "metadata": {},
   "outputs": [],
   "source": [
    "#Converting pickup_datetime into datetime datatype\n",
    "train['pickup_datetime'] = pd.to_datetime(train['pickup_datetime'], errors='coerce').dt.tz_localize(None)\n",
    "test['pickup_datetime'] = pd.to_datetime(test['pickup_datetime'], errors='coerce').dt.tz_localize(None)"
   ]
  },
  {
   "cell_type": "code",
   "execution_count": 11,
   "id": "0d242587",
   "metadata": {},
   "outputs": [
    {
     "data": {
      "text/html": [
       "<div>\n",
       "<style scoped>\n",
       "    .dataframe tbody tr th:only-of-type {\n",
       "        vertical-align: middle;\n",
       "    }\n",
       "\n",
       "    .dataframe tbody tr th {\n",
       "        vertical-align: top;\n",
       "    }\n",
       "\n",
       "    .dataframe thead th {\n",
       "        text-align: right;\n",
       "    }\n",
       "</style>\n",
       "<table border=\"1\" class=\"dataframe\">\n",
       "  <thead>\n",
       "    <tr style=\"text-align: right;\">\n",
       "      <th></th>\n",
       "      <th>fare_amount</th>\n",
       "      <th>pickup_datetime</th>\n",
       "      <th>pickup_longitude</th>\n",
       "      <th>pickup_latitude</th>\n",
       "      <th>dropoff_longitude</th>\n",
       "      <th>dropoff_latitude</th>\n",
       "      <th>passenger_count</th>\n",
       "    </tr>\n",
       "  </thead>\n",
       "  <tbody>\n",
       "    <tr>\n",
       "      <th>0</th>\n",
       "      <td>4.5</td>\n",
       "      <td>2009-06-15 17:26:21</td>\n",
       "      <td>-73.844311</td>\n",
       "      <td>40.721319</td>\n",
       "      <td>-73.841610</td>\n",
       "      <td>40.712278</td>\n",
       "      <td>1.0</td>\n",
       "    </tr>\n",
       "    <tr>\n",
       "      <th>1</th>\n",
       "      <td>16.9</td>\n",
       "      <td>2010-01-05 16:52:16</td>\n",
       "      <td>-74.016048</td>\n",
       "      <td>40.711303</td>\n",
       "      <td>-73.979268</td>\n",
       "      <td>40.782004</td>\n",
       "      <td>1.0</td>\n",
       "    </tr>\n",
       "    <tr>\n",
       "      <th>2</th>\n",
       "      <td>5.7</td>\n",
       "      <td>2011-08-18 00:35:00</td>\n",
       "      <td>-73.982738</td>\n",
       "      <td>40.761270</td>\n",
       "      <td>-73.991242</td>\n",
       "      <td>40.750562</td>\n",
       "      <td>2.0</td>\n",
       "    </tr>\n",
       "    <tr>\n",
       "      <th>3</th>\n",
       "      <td>7.7</td>\n",
       "      <td>2012-04-21 04:30:42</td>\n",
       "      <td>-73.987130</td>\n",
       "      <td>40.733143</td>\n",
       "      <td>-73.991567</td>\n",
       "      <td>40.758092</td>\n",
       "      <td>1.0</td>\n",
       "    </tr>\n",
       "    <tr>\n",
       "      <th>4</th>\n",
       "      <td>5.3</td>\n",
       "      <td>2010-03-09 07:51:00</td>\n",
       "      <td>-73.968095</td>\n",
       "      <td>40.768008</td>\n",
       "      <td>-73.956655</td>\n",
       "      <td>40.783762</td>\n",
       "      <td>1.0</td>\n",
       "    </tr>\n",
       "  </tbody>\n",
       "</table>\n",
       "</div>"
      ],
      "text/plain": [
       "   fare_amount     pickup_datetime  pickup_longitude  pickup_latitude  \\\n",
       "0          4.5 2009-06-15 17:26:21        -73.844311        40.721319   \n",
       "1         16.9 2010-01-05 16:52:16        -74.016048        40.711303   \n",
       "2          5.7 2011-08-18 00:35:00        -73.982738        40.761270   \n",
       "3          7.7 2012-04-21 04:30:42        -73.987130        40.733143   \n",
       "4          5.3 2010-03-09 07:51:00        -73.968095        40.768008   \n",
       "\n",
       "   dropoff_longitude  dropoff_latitude  passenger_count  \n",
       "0         -73.841610         40.712278              1.0  \n",
       "1         -73.979268         40.782004              1.0  \n",
       "2         -73.991242         40.750562              2.0  \n",
       "3         -73.991567         40.758092              1.0  \n",
       "4         -73.956655         40.783762              1.0  "
      ]
     },
     "execution_count": 11,
     "metadata": {},
     "output_type": "execute_result"
    }
   ],
   "source": [
    "train.head()"
   ]
  },
  {
   "cell_type": "code",
   "execution_count": 12,
   "id": "4a224c67",
   "metadata": {},
   "outputs": [
    {
     "data": {
      "text/html": [
       "<div>\n",
       "<style scoped>\n",
       "    .dataframe tbody tr th:only-of-type {\n",
       "        vertical-align: middle;\n",
       "    }\n",
       "\n",
       "    .dataframe tbody tr th {\n",
       "        vertical-align: top;\n",
       "    }\n",
       "\n",
       "    .dataframe thead th {\n",
       "        text-align: right;\n",
       "    }\n",
       "</style>\n",
       "<table border=\"1\" class=\"dataframe\">\n",
       "  <thead>\n",
       "    <tr style=\"text-align: right;\">\n",
       "      <th></th>\n",
       "      <th>pickup_datetime</th>\n",
       "      <th>pickup_longitude</th>\n",
       "      <th>pickup_latitude</th>\n",
       "      <th>dropoff_longitude</th>\n",
       "      <th>dropoff_latitude</th>\n",
       "      <th>passenger_count</th>\n",
       "    </tr>\n",
       "  </thead>\n",
       "  <tbody>\n",
       "    <tr>\n",
       "      <th>0</th>\n",
       "      <td>2015-01-27 13:08:24</td>\n",
       "      <td>-73.973320</td>\n",
       "      <td>40.763805</td>\n",
       "      <td>-73.981430</td>\n",
       "      <td>40.743835</td>\n",
       "      <td>1</td>\n",
       "    </tr>\n",
       "    <tr>\n",
       "      <th>1</th>\n",
       "      <td>2015-01-27 13:08:24</td>\n",
       "      <td>-73.986862</td>\n",
       "      <td>40.719383</td>\n",
       "      <td>-73.998886</td>\n",
       "      <td>40.739201</td>\n",
       "      <td>1</td>\n",
       "    </tr>\n",
       "    <tr>\n",
       "      <th>2</th>\n",
       "      <td>2011-10-08 11:53:44</td>\n",
       "      <td>-73.982524</td>\n",
       "      <td>40.751260</td>\n",
       "      <td>-73.979654</td>\n",
       "      <td>40.746139</td>\n",
       "      <td>1</td>\n",
       "    </tr>\n",
       "    <tr>\n",
       "      <th>3</th>\n",
       "      <td>2012-12-01 21:12:12</td>\n",
       "      <td>-73.981160</td>\n",
       "      <td>40.767807</td>\n",
       "      <td>-73.990448</td>\n",
       "      <td>40.751635</td>\n",
       "      <td>1</td>\n",
       "    </tr>\n",
       "    <tr>\n",
       "      <th>4</th>\n",
       "      <td>2012-12-01 21:12:12</td>\n",
       "      <td>-73.966046</td>\n",
       "      <td>40.789775</td>\n",
       "      <td>-73.988565</td>\n",
       "      <td>40.744427</td>\n",
       "      <td>1</td>\n",
       "    </tr>\n",
       "  </tbody>\n",
       "</table>\n",
       "</div>"
      ],
      "text/plain": [
       "      pickup_datetime  pickup_longitude  pickup_latitude  dropoff_longitude  \\\n",
       "0 2015-01-27 13:08:24        -73.973320        40.763805         -73.981430   \n",
       "1 2015-01-27 13:08:24        -73.986862        40.719383         -73.998886   \n",
       "2 2011-10-08 11:53:44        -73.982524        40.751260         -73.979654   \n",
       "3 2012-12-01 21:12:12        -73.981160        40.767807         -73.990448   \n",
       "4 2012-12-01 21:12:12        -73.966046        40.789775         -73.988565   \n",
       "\n",
       "   dropoff_latitude  passenger_count  \n",
       "0         40.743835                1  \n",
       "1         40.739201                1  \n",
       "2         40.746139                1  \n",
       "3         40.751635                1  \n",
       "4         40.744427                1  "
      ]
     },
     "execution_count": 12,
     "metadata": {},
     "output_type": "execute_result"
    }
   ],
   "source": [
    "test.head()"
   ]
  },
  {
   "cell_type": "code",
   "execution_count": 13,
   "id": "2a8ca602",
   "metadata": {},
   "outputs": [
    {
     "name": "stdout",
     "output_type": "stream",
     "text": [
      "<class 'pandas.core.frame.DataFrame'>\n",
      "RangeIndex: 16067 entries, 0 to 16066\n",
      "Data columns (total 7 columns):\n",
      " #   Column             Non-Null Count  Dtype         \n",
      "---  ------             --------------  -----         \n",
      " 0   fare_amount        16042 non-null  float64       \n",
      " 1   pickup_datetime    16066 non-null  datetime64[ns]\n",
      " 2   pickup_longitude   16067 non-null  float64       \n",
      " 3   pickup_latitude    16067 non-null  float64       \n",
      " 4   dropoff_longitude  16067 non-null  float64       \n",
      " 5   dropoff_latitude   16067 non-null  float64       \n",
      " 6   passenger_count    16012 non-null  float64       \n",
      "dtypes: datetime64[ns](1), float64(6)\n",
      "memory usage: 878.8 KB\n"
     ]
    }
   ],
   "source": [
    "train.info()"
   ]
  },
  {
   "cell_type": "code",
   "execution_count": 14,
   "id": "8fd32cd6",
   "metadata": {},
   "outputs": [
    {
     "name": "stdout",
     "output_type": "stream",
     "text": [
      "<class 'pandas.core.frame.DataFrame'>\n",
      "RangeIndex: 9914 entries, 0 to 9913\n",
      "Data columns (total 6 columns):\n",
      " #   Column             Non-Null Count  Dtype         \n",
      "---  ------             --------------  -----         \n",
      " 0   pickup_datetime    9914 non-null   datetime64[ns]\n",
      " 1   pickup_longitude   9914 non-null   float64       \n",
      " 2   pickup_latitude    9914 non-null   float64       \n",
      " 3   dropoff_longitude  9914 non-null   float64       \n",
      " 4   dropoff_latitude   9914 non-null   float64       \n",
      " 5   passenger_count    9914 non-null   int64         \n",
      "dtypes: datetime64[ns](1), float64(4), int64(1)\n",
      "memory usage: 464.8 KB\n"
     ]
    }
   ],
   "source": [
    "test.info()"
   ]
  },
  {
   "cell_type": "code",
   "execution_count": 15,
   "id": "80653e32",
   "metadata": {},
   "outputs": [
    {
     "data": {
      "text/plain": [
       "passenger_count      55\n",
       "fare_amount          25\n",
       "pickup_datetime       1\n",
       "pickup_longitude      0\n",
       "pickup_latitude       0\n",
       "dropoff_longitude     0\n",
       "dropoff_latitude      0\n",
       "dtype: int64"
      ]
     },
     "execution_count": 15,
     "metadata": {},
     "output_type": "execute_result"
    }
   ],
   "source": [
    "train.isnull().sum().sort_values(ascending=False)"
   ]
  },
  {
   "cell_type": "code",
   "execution_count": 16,
   "id": "4b50d289",
   "metadata": {},
   "outputs": [
    {
     "name": "stdout",
     "output_type": "stream",
     "text": [
      "passenger_count:0.34231654944918155\n",
      "fare_amount:0.15559843156780978\n",
      "pickup_datetime:0.006223937262712392\n"
     ]
    }
   ],
   "source": [
    "nan = ['passenger_count', 'fare_amount', 'pickup_datetime']\n",
    "for i in nan:\n",
    "    print(f'{i}:{(train[i].isnull().sum()/len(train))*100}')"
   ]
  },
  {
   "cell_type": "code",
   "execution_count": 17,
   "id": "b8dce85d",
   "metadata": {},
   "outputs": [],
   "source": [
    "train = train.drop(train[train.isnull().any(1)].index, axis=0)"
   ]
  },
  {
   "cell_type": "code",
   "execution_count": 18,
   "id": "76414172",
   "metadata": {},
   "outputs": [
    {
     "data": {
      "text/plain": [
       "(15986, 7)"
      ]
     },
     "execution_count": 18,
     "metadata": {},
     "output_type": "execute_result"
    }
   ],
   "source": [
    "train.shape"
   ]
  },
  {
   "cell_type": "code",
   "execution_count": 19,
   "id": "8e7a4cfb",
   "metadata": {},
   "outputs": [],
   "source": [
    "# Dropping negative fare values\n",
    "train = train.drop(train[train['fare_amount']<0].index, axis=0)"
   ]
  },
  {
   "cell_type": "code",
   "execution_count": 20,
   "id": "3a919249",
   "metadata": {},
   "outputs": [
    {
     "data": {
      "image/png": "[encoded data removed]",
      "text/plain": [
       "<Figure size 432x288 with 1 Axes>"
      ]
     },
     "metadata": {
      "needs_background": "light"
     },
     "output_type": "display_data"
    }
   ],
   "source": [
    "sns.boxplot(data=train, y='fare_amount')\n",
    "plt.show()"
   ]
  },
  {
   "cell_type": "code",
   "execution_count": 21,
   "id": "3d899c0d",
   "metadata": {},
   "outputs": [
    {
     "data": {
      "text/plain": [
       "1015     54343.00\n",
       "1072      4343.00\n",
       "607        453.00\n",
       "980        434.00\n",
       "1335       180.00\n",
       "           ...   \n",
       "4084         2.50\n",
       "9773         2.50\n",
       "1427         1.14\n",
       "2780         0.01\n",
       "10002        0.00\n",
       "Name: fare_amount, Length: 15983, dtype: float64"
      ]
     },
     "execution_count": 21,
     "metadata": {},
     "output_type": "execute_result"
    }
   ],
   "source": [
    "train['fare_amount'].sort_values(ascending=False)"
   ]
  },
  {
   "cell_type": "code",
   "execution_count": 22,
   "id": "648bb463",
   "metadata": {},
   "outputs": [],
   "source": [
    "train = train.drop(train[train['fare_amount']>400].index, axis=0)"
   ]
  },
  {
   "cell_type": "code",
   "execution_count": 23,
   "id": "72822f52",
   "metadata": {},
   "outputs": [
    {
     "data": {
      "text/plain": [
       "<AxesSubplot:ylabel='fare_amount'>"
      ]
     },
     "execution_count": 23,
     "metadata": {},
     "output_type": "execute_result"
    },
    {
     "data": {
      "image/png": "[encoded data removed]",
      "text/plain": [
       "<Figure size 432x288 with 1 Axes>"
      ]
     },
     "metadata": {
      "needs_background": "light"
     },
     "output_type": "display_data"
    }
   ],
   "source": [
    "sns.boxplot(data=train, y='fare_amount')"
   ]
  },
  {
   "cell_type": "code",
   "execution_count": 24,
   "id": "1f8e32f2",
   "metadata": {},
   "outputs": [
    {
     "data": {
      "text/plain": [
       "(15979, 7)"
      ]
     },
     "execution_count": 24,
     "metadata": {},
     "output_type": "execute_result"
    }
   ],
   "source": [
    "train.shape"
   ]
  },
  {
   "cell_type": "code",
   "execution_count": 25,
   "id": "e088c3e7",
   "metadata": {},
   "outputs": [
    {
     "data": {
      "text/plain": [
       "1.00       11236\n",
       "2.00        2318\n",
       "5.00        1044\n",
       "3.00         675\n",
       "4.00         327\n",
       "6.00         301\n",
       "0.00          57\n",
       "43.00          2\n",
       "53.00          2\n",
       "5334.00        1\n",
       "236.00         1\n",
       "0.12           1\n",
       "1.30           1\n",
       "531.20         1\n",
       "87.00          1\n",
       "537.00         1\n",
       "58.00          1\n",
       "536.00         1\n",
       "535.00         1\n",
       "5345.00        1\n",
       "345.00         1\n",
       "35.00          1\n",
       "456.00         1\n",
       "554.00         1\n",
       "354.00         1\n",
       "557.00         1\n",
       "Name: passenger_count, dtype: int64"
      ]
     },
     "execution_count": 25,
     "metadata": {},
     "output_type": "execute_result"
    }
   ],
   "source": [
    "train['passenger_count'].value_counts()"
   ]
  },
  {
   "cell_type": "code",
   "execution_count": 26,
   "id": "fd885250",
   "metadata": {},
   "outputs": [
    {
     "data": {
      "text/plain": [
       "0.11890606420927467"
      ]
     },
     "execution_count": 26,
     "metadata": {},
     "output_type": "execute_result"
    }
   ],
   "source": [
    "len(train[train['passenger_count']>6])*100/len(train)"
   ]
  },
  {
   "cell_type": "code",
   "execution_count": 27,
   "id": "1245f854",
   "metadata": {},
   "outputs": [],
   "source": [
    "# Assume that cab has maximum 6 seats drop the rows which shows passenger count more than 6\n",
    "train = train.drop(train[train['passenger_count']>6].index, axis=0)"
   ]
  },
  {
   "cell_type": "code",
   "execution_count": 28,
   "id": "0282088f",
   "metadata": {},
   "outputs": [
    {
     "data": {
      "text/plain": [
       "1.00    11236\n",
       "2.00     2318\n",
       "5.00     1044\n",
       "3.00      675\n",
       "4.00      327\n",
       "6.00      301\n",
       "0.00       57\n",
       "1.30        1\n",
       "0.12        1\n",
       "Name: passenger_count, dtype: int64"
      ]
     },
     "execution_count": 28,
     "metadata": {},
     "output_type": "execute_result"
    }
   ],
   "source": [
    "train['passenger_count'].value_counts()"
   ]
  },
  {
   "cell_type": "code",
   "execution_count": 29,
   "id": "d7fbfe10",
   "metadata": {},
   "outputs": [],
   "source": [
    "# Dropping rows which are showing passenger count of 0,1.3,0.12\n",
    "outliers = [0,1.30,0.12]\n",
    "for i in outliers:\n",
    "    train = train.drop(train[train['passenger_count']==i].index, axis=0)"
   ]
  },
  {
   "cell_type": "code",
   "execution_count": 30,
   "id": "09b4bd03",
   "metadata": {},
   "outputs": [
    {
     "data": {
      "text/plain": [
       "1.0    11236\n",
       "2.0     2318\n",
       "5.0     1044\n",
       "3.0      675\n",
       "4.0      327\n",
       "6.0      301\n",
       "Name: passenger_count, dtype: int64"
      ]
     },
     "execution_count": 30,
     "metadata": {},
     "output_type": "execute_result"
    }
   ],
   "source": [
    "train['passenger_count'].value_counts()"
   ]
  },
  {
   "cell_type": "code",
   "execution_count": 31,
   "id": "226bb4cd",
   "metadata": {},
   "outputs": [],
   "source": [
    "train['passenger_count'] = train['passenger_count'].astype(np.int64)"
   ]
  },
  {
   "cell_type": "code",
   "execution_count": 32,
   "id": "48b91e8b",
   "metadata": {},
   "outputs": [
    {
     "data": {
      "text/plain": [
       "1    11236\n",
       "2     2318\n",
       "5     1044\n",
       "3      675\n",
       "4      327\n",
       "6      301\n",
       "Name: passenger_count, dtype: int64"
      ]
     },
     "execution_count": 32,
     "metadata": {},
     "output_type": "execute_result"
    }
   ],
   "source": [
    "train['passenger_count'].value_counts()"
   ]
  },
  {
   "cell_type": "markdown",
   "id": "8394295a",
   "metadata": {},
   "source": [
    "***Latitude ranges between -90 to 90 and\n",
    "Longitude ranges between -180 to 180***"
   ]
  },
  {
   "cell_type": "code",
   "execution_count": 33,
   "id": "206ba9c8",
   "metadata": {},
   "outputs": [
    {
     "name": "stdout",
     "output_type": "stream",
     "text": [
      "      fare_amount     pickup_datetime  pickup_longitude  pickup_latitude  \\\n",
      "5686          3.3 2011-07-30 11:15:00        -73.947235       401.083332   \n",
      "\n",
      "      dropoff_longitude  dropoff_latitude  passenger_count  \n",
      "5686         -73.951392         40.778927                1  \n",
      "Empty DataFrame\n",
      "Columns: [fare_amount, pickup_datetime, pickup_longitude, pickup_latitude, dropoff_longitude, dropoff_latitude, passenger_count]\n",
      "Index: []\n"
     ]
    }
   ],
   "source": [
    "latitude = ['pickup_latitude', 'dropoff_latitude']\n",
    "for i in latitude:\n",
    "    print(train[(train[i]<-90) | (train[i]>90)])"
   ]
  },
  {
   "cell_type": "code",
   "execution_count": 34,
   "id": "a7da2936",
   "metadata": {},
   "outputs": [
    {
     "name": "stdout",
     "output_type": "stream",
     "text": [
      "Empty DataFrame\n",
      "Columns: [fare_amount, pickup_datetime, pickup_longitude, pickup_latitude, dropoff_longitude, dropoff_latitude, passenger_count]\n",
      "Index: []\n",
      "Empty DataFrame\n",
      "Columns: [fare_amount, pickup_datetime, pickup_longitude, pickup_latitude, dropoff_longitude, dropoff_latitude, passenger_count]\n",
      "Index: []\n"
     ]
    }
   ],
   "source": [
    "longitude = ['pickup_longitude', 'dropoff_longitude']\n",
    "for i in longitude:\n",
    "    print(train[(train[i]<-180) | (train[i])>180])"
   ]
  },
  {
   "cell_type": "code",
   "execution_count": 35,
   "id": "5fe17f61",
   "metadata": {},
   "outputs": [],
   "source": [
    "# So as seen above one row has pickup latitude more than 90 so we need to drop it\n",
    "train = train.drop((train[(train['pickup_latitude']<-90) | (train['pickup_latitude']>90)]).index, axis=0)"
   ]
  },
  {
   "cell_type": "code",
   "execution_count": 36,
   "id": "f54c09b7",
   "metadata": {},
   "outputs": [
    {
     "data": {
      "text/plain": [
       "(15900, 7)"
      ]
     },
     "execution_count": 36,
     "metadata": {},
     "output_type": "execute_result"
    }
   ],
   "source": [
    "train.shape"
   ]
  },
  {
   "cell_type": "code",
   "execution_count": 37,
   "id": "07060dfe",
   "metadata": {},
   "outputs": [
    {
     "data": {
      "text/html": [
       "<div>\n",
       "<style scoped>\n",
       "    .dataframe tbody tr th:only-of-type {\n",
       "        vertical-align: middle;\n",
       "    }\n",
       "\n",
       "    .dataframe tbody tr th {\n",
       "        vertical-align: top;\n",
       "    }\n",
       "\n",
       "    .dataframe thead th {\n",
       "        text-align: right;\n",
       "    }\n",
       "</style>\n",
       "<table border=\"1\" class=\"dataframe\">\n",
       "  <thead>\n",
       "    <tr style=\"text-align: right;\">\n",
       "      <th></th>\n",
       "      <th>fare_amount</th>\n",
       "      <th>pickup_longitude</th>\n",
       "      <th>pickup_latitude</th>\n",
       "      <th>dropoff_longitude</th>\n",
       "      <th>dropoff_latitude</th>\n",
       "      <th>passenger_count</th>\n",
       "    </tr>\n",
       "  </thead>\n",
       "  <tbody>\n",
       "    <tr>\n",
       "      <th>count</th>\n",
       "      <td>15900.000000</td>\n",
       "      <td>15900.000000</td>\n",
       "      <td>15900.000000</td>\n",
       "      <td>15900.000000</td>\n",
       "      <td>15900.000000</td>\n",
       "      <td>15900.000000</td>\n",
       "    </tr>\n",
       "    <tr>\n",
       "      <th>mean</th>\n",
       "      <td>11.320976</td>\n",
       "      <td>-72.474794</td>\n",
       "      <td>39.898680</td>\n",
       "      <td>-72.465053</td>\n",
       "      <td>39.899208</td>\n",
       "      <td>1.649686</td>\n",
       "    </tr>\n",
       "    <tr>\n",
       "      <th>std</th>\n",
       "      <td>9.668759</td>\n",
       "      <td>10.539101</td>\n",
       "      <td>6.186989</td>\n",
       "      <td>10.567028</td>\n",
       "      <td>6.186614</td>\n",
       "      <td>1.265914</td>\n",
       "    </tr>\n",
       "    <tr>\n",
       "      <th>min</th>\n",
       "      <td>0.000000</td>\n",
       "      <td>-74.438233</td>\n",
       "      <td>-74.006893</td>\n",
       "      <td>-74.429332</td>\n",
       "      <td>-74.006377</td>\n",
       "      <td>1.000000</td>\n",
       "    </tr>\n",
       "    <tr>\n",
       "      <th>25%</th>\n",
       "      <td>6.000000</td>\n",
       "      <td>-73.992143</td>\n",
       "      <td>40.734950</td>\n",
       "      <td>-73.991181</td>\n",
       "      <td>40.734711</td>\n",
       "      <td>1.000000</td>\n",
       "    </tr>\n",
       "    <tr>\n",
       "      <th>50%</th>\n",
       "      <td>8.500000</td>\n",
       "      <td>-73.981686</td>\n",
       "      <td>40.752636</td>\n",
       "      <td>-73.980158</td>\n",
       "      <td>40.753564</td>\n",
       "      <td>1.000000</td>\n",
       "    </tr>\n",
       "    <tr>\n",
       "      <th>75%</th>\n",
       "      <td>12.500000</td>\n",
       "      <td>-73.966802</td>\n",
       "      <td>40.767382</td>\n",
       "      <td>-73.963643</td>\n",
       "      <td>40.768019</td>\n",
       "      <td>2.000000</td>\n",
       "    </tr>\n",
       "    <tr>\n",
       "      <th>max</th>\n",
       "      <td>180.000000</td>\n",
       "      <td>40.766125</td>\n",
       "      <td>41.366138</td>\n",
       "      <td>40.802437</td>\n",
       "      <td>41.366138</td>\n",
       "      <td>6.000000</td>\n",
       "    </tr>\n",
       "  </tbody>\n",
       "</table>\n",
       "</div>"
      ],
      "text/plain": [
       "        fare_amount  pickup_longitude  pickup_latitude  dropoff_longitude  \\\n",
       "count  15900.000000      15900.000000     15900.000000       15900.000000   \n",
       "mean      11.320976        -72.474794        39.898680         -72.465053   \n",
       "std        9.668759         10.539101         6.186989          10.567028   \n",
       "min        0.000000        -74.438233       -74.006893         -74.429332   \n",
       "25%        6.000000        -73.992143        40.734950         -73.991181   \n",
       "50%        8.500000        -73.981686        40.752636         -73.980158   \n",
       "75%       12.500000        -73.966802        40.767382         -73.963643   \n",
       "max      180.000000         40.766125        41.366138          40.802437   \n",
       "\n",
       "       dropoff_latitude  passenger_count  \n",
       "count      15900.000000     15900.000000  \n",
       "mean          39.899208         1.649686  \n",
       "std            6.186614         1.265914  \n",
       "min          -74.006377         1.000000  \n",
       "25%           40.734711         1.000000  \n",
       "50%           40.753564         1.000000  \n",
       "75%           40.768019         2.000000  \n",
       "max           41.366138         6.000000  "
      ]
     },
     "execution_count": 37,
     "metadata": {},
     "output_type": "execute_result"
    }
   ],
   "source": [
    "train.describe()"
   ]
  },
  {
   "cell_type": "code",
   "execution_count": 38,
   "id": "22677ec8",
   "metadata": {},
   "outputs": [],
   "source": [
    "def haversine_distance (lat1,log1,lat2,log2):\n",
    "    data=[train, test]\n",
    "    for i in data:\n",
    "        radius_earth = 6371\n",
    "        phi1 = np.radians(i[lat1])\n",
    "        phi2 = np.radians(i[lat2])\n",
    "        \n",
    "        delta_phi = np.radians(i[lat2] - i[lat1])\n",
    "        delta_lambda = np.radians(i[log2] - i[log1])\n",
    "        \n",
    "        a = np.sin(delta_phi/2.0)**2 + np.cos(phi1) * np.cos(phi2) * np.sin(delta_lambda/2.0)**2\n",
    "        c = 2 * np.arctan2(np.sqrt(a),np.sqrt(1-a))\n",
    "        d = (radius_earth * c)\n",
    "        i['haversine_distance'] = d\n",
    "    return d"
   ]
  },
  {
   "cell_type": "code",
   "execution_count": 39,
   "id": "f9e933a2",
   "metadata": {},
   "outputs": [
    {
     "data": {
      "text/plain": [
       "0        2.323259\n",
       "1        2.425353\n",
       "2        0.618628\n",
       "3        1.961033\n",
       "4        5.387301\n",
       "          ...    \n",
       "9909     2.124874\n",
       "9910     3.270969\n",
       "9911    19.183942\n",
       "9912     8.343486\n",
       "9913     1.180825\n",
       "Length: 9914, dtype: float64"
      ]
     },
     "execution_count": 39,
     "metadata": {},
     "output_type": "execute_result"
    }
   ],
   "source": [
    "haversine_distance('pickup_latitude', 'pickup_longitude', 'dropoff_latitude', 'dropoff_longitude')"
   ]
  },
  {
   "cell_type": "code",
   "execution_count": 40,
   "id": "2f6dcddd",
   "metadata": {},
   "outputs": [
    {
     "data": {
      "text/html": [
       "<div>\n",
       "<style scoped>\n",
       "    .dataframe tbody tr th:only-of-type {\n",
       "        vertical-align: middle;\n",
       "    }\n",
       "\n",
       "    .dataframe tbody tr th {\n",
       "        vertical-align: top;\n",
       "    }\n",
       "\n",
       "    .dataframe thead th {\n",
       "        text-align: right;\n",
       "    }\n",
       "</style>\n",
       "<table border=\"1\" class=\"dataframe\">\n",
       "  <thead>\n",
       "    <tr style=\"text-align: right;\">\n",
       "      <th></th>\n",
       "      <th>fare_amount</th>\n",
       "      <th>pickup_datetime</th>\n",
       "      <th>pickup_longitude</th>\n",
       "      <th>pickup_latitude</th>\n",
       "      <th>dropoff_longitude</th>\n",
       "      <th>dropoff_latitude</th>\n",
       "      <th>passenger_count</th>\n",
       "      <th>haversine_distance</th>\n",
       "    </tr>\n",
       "  </thead>\n",
       "  <tbody>\n",
       "    <tr>\n",
       "      <th>0</th>\n",
       "      <td>4.5</td>\n",
       "      <td>2009-06-15 17:26:21</td>\n",
       "      <td>-73.844311</td>\n",
       "      <td>40.721319</td>\n",
       "      <td>-73.841610</td>\n",
       "      <td>40.712278</td>\n",
       "      <td>1</td>\n",
       "      <td>1.030764</td>\n",
       "    </tr>\n",
       "    <tr>\n",
       "      <th>1</th>\n",
       "      <td>16.9</td>\n",
       "      <td>2010-01-05 16:52:16</td>\n",
       "      <td>-74.016048</td>\n",
       "      <td>40.711303</td>\n",
       "      <td>-73.979268</td>\n",
       "      <td>40.782004</td>\n",
       "      <td>1</td>\n",
       "      <td>8.450134</td>\n",
       "    </tr>\n",
       "    <tr>\n",
       "      <th>2</th>\n",
       "      <td>5.7</td>\n",
       "      <td>2011-08-18 00:35:00</td>\n",
       "      <td>-73.982738</td>\n",
       "      <td>40.761270</td>\n",
       "      <td>-73.991242</td>\n",
       "      <td>40.750562</td>\n",
       "      <td>2</td>\n",
       "      <td>1.389525</td>\n",
       "    </tr>\n",
       "    <tr>\n",
       "      <th>3</th>\n",
       "      <td>7.7</td>\n",
       "      <td>2012-04-21 04:30:42</td>\n",
       "      <td>-73.987130</td>\n",
       "      <td>40.733143</td>\n",
       "      <td>-73.991567</td>\n",
       "      <td>40.758092</td>\n",
       "      <td>1</td>\n",
       "      <td>2.799270</td>\n",
       "    </tr>\n",
       "    <tr>\n",
       "      <th>4</th>\n",
       "      <td>5.3</td>\n",
       "      <td>2010-03-09 07:51:00</td>\n",
       "      <td>-73.968095</td>\n",
       "      <td>40.768008</td>\n",
       "      <td>-73.956655</td>\n",
       "      <td>40.783762</td>\n",
       "      <td>1</td>\n",
       "      <td>1.999157</td>\n",
       "    </tr>\n",
       "  </tbody>\n",
       "</table>\n",
       "</div>"
      ],
      "text/plain": [
       "   fare_amount     pickup_datetime  pickup_longitude  pickup_latitude  \\\n",
       "0          4.5 2009-06-15 17:26:21        -73.844311        40.721319   \n",
       "1         16.9 2010-01-05 16:52:16        -74.016048        40.711303   \n",
       "2          5.7 2011-08-18 00:35:00        -73.982738        40.761270   \n",
       "3          7.7 2012-04-21 04:30:42        -73.987130        40.733143   \n",
       "4          5.3 2010-03-09 07:51:00        -73.968095        40.768008   \n",
       "\n",
       "   dropoff_longitude  dropoff_latitude  passenger_count  haversine_distance  \n",
       "0         -73.841610         40.712278                1            1.030764  \n",
       "1         -73.979268         40.782004                1            8.450134  \n",
       "2         -73.991242         40.750562                2            1.389525  \n",
       "3         -73.991567         40.758092                1            2.799270  \n",
       "4         -73.956655         40.783762                1            1.999157  "
      ]
     },
     "execution_count": 40,
     "metadata": {},
     "output_type": "execute_result"
    }
   ],
   "source": [
    "train.head()"
   ]
  },
  {
   "cell_type": "code",
   "execution_count": 41,
   "id": "18d9edf2",
   "metadata": {},
   "outputs": [
    {
     "data": {
      "text/html": [
       "<div>\n",
       "<style scoped>\n",
       "    .dataframe tbody tr th:only-of-type {\n",
       "        vertical-align: middle;\n",
       "    }\n",
       "\n",
       "    .dataframe tbody tr th {\n",
       "        vertical-align: top;\n",
       "    }\n",
       "\n",
       "    .dataframe thead th {\n",
       "        text-align: right;\n",
       "    }\n",
       "</style>\n",
       "<table border=\"1\" class=\"dataframe\">\n",
       "  <thead>\n",
       "    <tr style=\"text-align: right;\">\n",
       "      <th></th>\n",
       "      <th>pickup_datetime</th>\n",
       "      <th>pickup_longitude</th>\n",
       "      <th>pickup_latitude</th>\n",
       "      <th>dropoff_longitude</th>\n",
       "      <th>dropoff_latitude</th>\n",
       "      <th>passenger_count</th>\n",
       "      <th>haversine_distance</th>\n",
       "    </tr>\n",
       "  </thead>\n",
       "  <tbody>\n",
       "    <tr>\n",
       "      <th>0</th>\n",
       "      <td>2015-01-27 13:08:24</td>\n",
       "      <td>-73.973320</td>\n",
       "      <td>40.763805</td>\n",
       "      <td>-73.981430</td>\n",
       "      <td>40.743835</td>\n",
       "      <td>1</td>\n",
       "      <td>2.323259</td>\n",
       "    </tr>\n",
       "    <tr>\n",
       "      <th>1</th>\n",
       "      <td>2015-01-27 13:08:24</td>\n",
       "      <td>-73.986862</td>\n",
       "      <td>40.719383</td>\n",
       "      <td>-73.998886</td>\n",
       "      <td>40.739201</td>\n",
       "      <td>1</td>\n",
       "      <td>2.425353</td>\n",
       "    </tr>\n",
       "    <tr>\n",
       "      <th>2</th>\n",
       "      <td>2011-10-08 11:53:44</td>\n",
       "      <td>-73.982524</td>\n",
       "      <td>40.751260</td>\n",
       "      <td>-73.979654</td>\n",
       "      <td>40.746139</td>\n",
       "      <td>1</td>\n",
       "      <td>0.618628</td>\n",
       "    </tr>\n",
       "    <tr>\n",
       "      <th>3</th>\n",
       "      <td>2012-12-01 21:12:12</td>\n",
       "      <td>-73.981160</td>\n",
       "      <td>40.767807</td>\n",
       "      <td>-73.990448</td>\n",
       "      <td>40.751635</td>\n",
       "      <td>1</td>\n",
       "      <td>1.961033</td>\n",
       "    </tr>\n",
       "    <tr>\n",
       "      <th>4</th>\n",
       "      <td>2012-12-01 21:12:12</td>\n",
       "      <td>-73.966046</td>\n",
       "      <td>40.789775</td>\n",
       "      <td>-73.988565</td>\n",
       "      <td>40.744427</td>\n",
       "      <td>1</td>\n",
       "      <td>5.387301</td>\n",
       "    </tr>\n",
       "  </tbody>\n",
       "</table>\n",
       "</div>"
      ],
      "text/plain": [
       "      pickup_datetime  pickup_longitude  pickup_latitude  dropoff_longitude  \\\n",
       "0 2015-01-27 13:08:24        -73.973320        40.763805         -73.981430   \n",
       "1 2015-01-27 13:08:24        -73.986862        40.719383         -73.998886   \n",
       "2 2011-10-08 11:53:44        -73.982524        40.751260         -73.979654   \n",
       "3 2012-12-01 21:12:12        -73.981160        40.767807         -73.990448   \n",
       "4 2012-12-01 21:12:12        -73.966046        40.789775         -73.988565   \n",
       "\n",
       "   dropoff_latitude  passenger_count  haversine_distance  \n",
       "0         40.743835                1            2.323259  \n",
       "1         40.739201                1            2.425353  \n",
       "2         40.746139                1            0.618628  \n",
       "3         40.751635                1            1.961033  \n",
       "4         40.744427                1            5.387301  "
      ]
     },
     "execution_count": 41,
     "metadata": {},
     "output_type": "execute_result"
    }
   ],
   "source": [
    "test.head()"
   ]
  },
  {
   "cell_type": "code",
   "execution_count": 42,
   "id": "8a83a9a6",
   "metadata": {},
   "outputs": [],
   "source": [
    "# Separate date,month,year,dayofweek,hour\n",
    "data = [train,test]\n",
    "for i in data:\n",
    "    i['year'] = i['pickup_datetime'].dt.year\n",
    "    i['month'] = i['pickup_datetime'].dt.month\n",
    "    i['date'] = i['pickup_datetime'].dt.day\n",
    "    i['dayofweek'] = i['pickup_datetime'].dt.dayofweek\n",
    "    i['hour'] = i['pickup_datetime'].dt.hour"
   ]
  },
  {
   "cell_type": "code",
   "execution_count": 43,
   "id": "b0aed6bb",
   "metadata": {},
   "outputs": [],
   "source": [
    "# Drop pickup datetime as we have split it\n",
    "train = train.drop('pickup_datetime', axis=1)\n",
    "test = test.drop('pickup_datetime', axis=1)"
   ]
  },
  {
   "cell_type": "code",
   "execution_count": 44,
   "id": "79545c7c",
   "metadata": {},
   "outputs": [
    {
     "data": {
      "text/html": [
       "<div>\n",
       "<style scoped>\n",
       "    .dataframe tbody tr th:only-of-type {\n",
       "        vertical-align: middle;\n",
       "    }\n",
       "\n",
       "    .dataframe tbody tr th {\n",
       "        vertical-align: top;\n",
       "    }\n",
       "\n",
       "    .dataframe thead th {\n",
       "        text-align: right;\n",
       "    }\n",
       "</style>\n",
       "<table border=\"1\" class=\"dataframe\">\n",
       "  <thead>\n",
       "    <tr style=\"text-align: right;\">\n",
       "      <th></th>\n",
       "      <th>fare_amount</th>\n",
       "      <th>pickup_longitude</th>\n",
       "      <th>pickup_latitude</th>\n",
       "      <th>dropoff_longitude</th>\n",
       "      <th>dropoff_latitude</th>\n",
       "      <th>passenger_count</th>\n",
       "      <th>haversine_distance</th>\n",
       "      <th>year</th>\n",
       "      <th>month</th>\n",
       "      <th>date</th>\n",
       "      <th>dayofweek</th>\n",
       "      <th>hour</th>\n",
       "    </tr>\n",
       "  </thead>\n",
       "  <tbody>\n",
       "    <tr>\n",
       "      <th>0</th>\n",
       "      <td>4.5</td>\n",
       "      <td>-73.844311</td>\n",
       "      <td>40.721319</td>\n",
       "      <td>-73.841610</td>\n",
       "      <td>40.712278</td>\n",
       "      <td>1</td>\n",
       "      <td>1.030764</td>\n",
       "      <td>2009</td>\n",
       "      <td>6</td>\n",
       "      <td>15</td>\n",
       "      <td>0</td>\n",
       "      <td>17</td>\n",
       "    </tr>\n",
       "    <tr>\n",
       "      <th>1</th>\n",
       "      <td>16.9</td>\n",
       "      <td>-74.016048</td>\n",
       "      <td>40.711303</td>\n",
       "      <td>-73.979268</td>\n",
       "      <td>40.782004</td>\n",
       "      <td>1</td>\n",
       "      <td>8.450134</td>\n",
       "      <td>2010</td>\n",
       "      <td>1</td>\n",
       "      <td>5</td>\n",
       "      <td>1</td>\n",
       "      <td>16</td>\n",
       "    </tr>\n",
       "    <tr>\n",
       "      <th>2</th>\n",
       "      <td>5.7</td>\n",
       "      <td>-73.982738</td>\n",
       "      <td>40.761270</td>\n",
       "      <td>-73.991242</td>\n",
       "      <td>40.750562</td>\n",
       "      <td>2</td>\n",
       "      <td>1.389525</td>\n",
       "      <td>2011</td>\n",
       "      <td>8</td>\n",
       "      <td>18</td>\n",
       "      <td>3</td>\n",
       "      <td>0</td>\n",
       "    </tr>\n",
       "    <tr>\n",
       "      <th>3</th>\n",
       "      <td>7.7</td>\n",
       "      <td>-73.987130</td>\n",
       "      <td>40.733143</td>\n",
       "      <td>-73.991567</td>\n",
       "      <td>40.758092</td>\n",
       "      <td>1</td>\n",
       "      <td>2.799270</td>\n",
       "      <td>2012</td>\n",
       "      <td>4</td>\n",
       "      <td>21</td>\n",
       "      <td>5</td>\n",
       "      <td>4</td>\n",
       "    </tr>\n",
       "    <tr>\n",
       "      <th>4</th>\n",
       "      <td>5.3</td>\n",
       "      <td>-73.968095</td>\n",
       "      <td>40.768008</td>\n",
       "      <td>-73.956655</td>\n",
       "      <td>40.783762</td>\n",
       "      <td>1</td>\n",
       "      <td>1.999157</td>\n",
       "      <td>2010</td>\n",
       "      <td>3</td>\n",
       "      <td>9</td>\n",
       "      <td>1</td>\n",
       "      <td>7</td>\n",
       "    </tr>\n",
       "  </tbody>\n",
       "</table>\n",
       "</div>"
      ],
      "text/plain": [
       "   fare_amount  pickup_longitude  pickup_latitude  dropoff_longitude  \\\n",
       "0          4.5        -73.844311        40.721319         -73.841610   \n",
       "1         16.9        -74.016048        40.711303         -73.979268   \n",
       "2          5.7        -73.982738        40.761270         -73.991242   \n",
       "3          7.7        -73.987130        40.733143         -73.991567   \n",
       "4          5.3        -73.968095        40.768008         -73.956655   \n",
       "\n",
       "   dropoff_latitude  passenger_count  haversine_distance  year  month  date  \\\n",
       "0         40.712278                1            1.030764  2009      6    15   \n",
       "1         40.782004                1            8.450134  2010      1     5   \n",
       "2         40.750562                2            1.389525  2011      8    18   \n",
       "3         40.758092                1            2.799270  2012      4    21   \n",
       "4         40.783762                1            1.999157  2010      3     9   \n",
       "\n",
       "   dayofweek  hour  \n",
       "0          0    17  \n",
       "1          1    16  \n",
       "2          3     0  \n",
       "3          5     4  \n",
       "4          1     7  "
      ]
     },
     "execution_count": 44,
     "metadata": {},
     "output_type": "execute_result"
    }
   ],
   "source": [
    "train.head()"
   ]
  },
  {
   "cell_type": "markdown",
   "id": "1285291a",
   "metadata": {},
   "source": [
    "***Does the number of passengers affect fare price***"
   ]
  },
  {
   "cell_type": "code",
   "execution_count": 45,
   "id": "1fb1dec9",
   "metadata": {},
   "outputs": [
    {
     "data": {
      "image/png": "[encoded data removed]",
      "text/plain": [
       "<Figure size 720x720 with 1 Axes>"
      ]
     },
     "metadata": {
      "needs_background": "light"
     },
     "output_type": "display_data"
    }
   ],
   "source": [
    "plt.figure(figsize=(10,10))\n",
    "plt.scatter(x='fare_amount', y='passenger_count',data=train)\n",
    "plt.xlabel('Fare')\n",
    "plt.ylabel('Passengers')\n",
    "plt.show()"
   ]
  },
  {
   "cell_type": "markdown",
   "id": "6eb354e6",
   "metadata": {},
   "source": [
    "From here it seems that passenger count does not affect the fare and highest fare come from single passenger"
   ]
  },
  {
   "cell_type": "markdown",
   "id": "cbd8c451",
   "metadata": {},
   "source": [
    "***Does the date, time and day of week affect the fare***"
   ]
  },
  {
   "cell_type": "code",
   "execution_count": 46,
   "id": "ebe7acf9",
   "metadata": {},
   "outputs": [
    {
     "data": {
      "image/png": "[encoded data removed]",
      "text/plain": [
       "<Figure size 1080x1080 with 1 Axes>"
      ]
     },
     "metadata": {
      "needs_background": "light"
     },
     "output_type": "display_data"
    },
    {
     "data": {
      "image/png": "[encoded data removed]",
      "text/plain": [
       "<Figure size 432x288 with 1 Axes>"
      ]
     },
     "metadata": {
      "needs_background": "light"
     },
     "output_type": "display_data"
    },
    {
     "data": {
      "image/png": "[encoded data removed]",
      "text/plain": [
       "<Figure size 1080x1080 with 1 Axes>"
      ]
     },
     "metadata": {
      "needs_background": "light"
     },
     "output_type": "display_data"
    },
    {
     "data": {
      "image/png": "[encoded data removed]",
      "text/plain": [
       "<Figure size 432x288 with 1 Axes>"
      ]
     },
     "metadata": {
      "needs_background": "light"
     },
     "output_type": "display_data"
    },
    {
     "data": {
      "image/png": "[encoded data removed]",
      "text/plain": [
       "<Figure size 1080x1080 with 1 Axes>"
      ]
     },
     "metadata": {
      "needs_background": "light"
     },
     "output_type": "display_data"
    }
   ],
   "source": [
    "data = ['date', 'dayofweek', 'hour']\n",
    "for i in data:\n",
    "    if i!='date':\n",
    "        plt.hist(i,data=train, bins=100)\n",
    "        plt.xlabel(i)\n",
    "        plt.ylabel('Frequency')\n",
    "        plt.show()\n",
    "    else:\n",
    "        pass\n",
    "    plt.figure(figsize=(15,15))\n",
    "    plt.scatter(x='fare_amount', y=i, data=train)\n",
    "    plt.xlabel('Fare')\n",
    "    plt.ylabel(i)\n",
    "    plt.show()"
   ]
  },
  {
   "cell_type": "markdown",
   "id": "4308b59b",
   "metadata": {},
   "source": [
    "From the above figure it seems that:\n",
    "1) Fare throughout the month is uniform \n",
    "2) On thursday highest fare is recorded\n",
    "3) At 5 AM frequency of cab rides is low and it increases at after 4 PM"
   ]
  },
  {
   "cell_type": "markdown",
   "id": "944f5de9",
   "metadata": {},
   "source": [
    "***Does the distance affect the fare***"
   ]
  },
  {
   "cell_type": "code",
   "execution_count": 47,
   "id": "c7654100",
   "metadata": {},
   "outputs": [
    {
     "data": {
      "text/html": [
       "<div>\n",
       "<style scoped>\n",
       "    .dataframe tbody tr th:only-of-type {\n",
       "        vertical-align: middle;\n",
       "    }\n",
       "\n",
       "    .dataframe tbody tr th {\n",
       "        vertical-align: top;\n",
       "    }\n",
       "\n",
       "    .dataframe thead th {\n",
       "        text-align: right;\n",
       "    }\n",
       "</style>\n",
       "<table border=\"1\" class=\"dataframe\">\n",
       "  <thead>\n",
       "    <tr style=\"text-align: right;\">\n",
       "      <th></th>\n",
       "      <th>fare_amount</th>\n",
       "      <th>pickup_longitude</th>\n",
       "      <th>pickup_latitude</th>\n",
       "      <th>dropoff_longitude</th>\n",
       "      <th>dropoff_latitude</th>\n",
       "      <th>passenger_count</th>\n",
       "      <th>haversine_distance</th>\n",
       "      <th>year</th>\n",
       "      <th>month</th>\n",
       "      <th>date</th>\n",
       "      <th>dayofweek</th>\n",
       "      <th>hour</th>\n",
       "    </tr>\n",
       "  </thead>\n",
       "  <tbody>\n",
       "    <tr>\n",
       "      <th>472</th>\n",
       "      <td>2.50</td>\n",
       "      <td>0.000000</td>\n",
       "      <td>0.000000</td>\n",
       "      <td>-74.005433</td>\n",
       "      <td>40.726685</td>\n",
       "      <td>2</td>\n",
       "      <td>8667.304968</td>\n",
       "      <td>2009</td>\n",
       "      <td>2</td>\n",
       "      <td>22</td>\n",
       "      <td>6</td>\n",
       "      <td>22</td>\n",
       "    </tr>\n",
       "    <tr>\n",
       "      <th>1260</th>\n",
       "      <td>5.70</td>\n",
       "      <td>-73.973907</td>\n",
       "      <td>40.754743</td>\n",
       "      <td>0.000000</td>\n",
       "      <td>0.000000</td>\n",
       "      <td>2</td>\n",
       "      <td>8665.268588</td>\n",
       "      <td>2011</td>\n",
       "      <td>3</td>\n",
       "      <td>10</td>\n",
       "      <td>3</td>\n",
       "      <td>20</td>\n",
       "    </tr>\n",
       "    <tr>\n",
       "      <th>2280</th>\n",
       "      <td>8.90</td>\n",
       "      <td>-73.936667</td>\n",
       "      <td>40.757815</td>\n",
       "      <td>0.000000</td>\n",
       "      <td>40.757815</td>\n",
       "      <td>1</td>\n",
       "      <td>6026.494216</td>\n",
       "      <td>2011</td>\n",
       "      <td>8</td>\n",
       "      <td>29</td>\n",
       "      <td>0</td>\n",
       "      <td>8</td>\n",
       "    </tr>\n",
       "    <tr>\n",
       "      <th>2397</th>\n",
       "      <td>45.00</td>\n",
       "      <td>0.000000</td>\n",
       "      <td>0.000000</td>\n",
       "      <td>-74.010230</td>\n",
       "      <td>40.714553</td>\n",
       "      <td>2</td>\n",
       "      <td>8667.454421</td>\n",
       "      <td>2012</td>\n",
       "      <td>6</td>\n",
       "      <td>24</td>\n",
       "      <td>6</td>\n",
       "      <td>17</td>\n",
       "    </tr>\n",
       "    <tr>\n",
       "      <th>4278</th>\n",
       "      <td>7.00</td>\n",
       "      <td>-73.972702</td>\n",
       "      <td>40.757423</td>\n",
       "      <td>0.000000</td>\n",
       "      <td>0.000000</td>\n",
       "      <td>1</td>\n",
       "      <td>8665.223767</td>\n",
       "      <td>2015</td>\n",
       "      <td>4</td>\n",
       "      <td>7</td>\n",
       "      <td>1</td>\n",
       "      <td>23</td>\n",
       "    </tr>\n",
       "    <tr>\n",
       "      <th>4597</th>\n",
       "      <td>6.90</td>\n",
       "      <td>0.000000</td>\n",
       "      <td>0.000000</td>\n",
       "      <td>-73.989693</td>\n",
       "      <td>40.754280</td>\n",
       "      <td>1</td>\n",
       "      <td>8666.566030</td>\n",
       "      <td>2010</td>\n",
       "      <td>3</td>\n",
       "      <td>30</td>\n",
       "      <td>1</td>\n",
       "      <td>7</td>\n",
       "    </tr>\n",
       "    <tr>\n",
       "      <th>5864</th>\n",
       "      <td>8.50</td>\n",
       "      <td>-73.995030</td>\n",
       "      <td>40.744945</td>\n",
       "      <td>-7.986640</td>\n",
       "      <td>40.729937</td>\n",
       "      <td>1</td>\n",
       "      <td>5420.988959</td>\n",
       "      <td>2012</td>\n",
       "      <td>3</td>\n",
       "      <td>4</td>\n",
       "      <td>6</td>\n",
       "      <td>1</td>\n",
       "    </tr>\n",
       "    <tr>\n",
       "      <th>6188</th>\n",
       "      <td>15.50</td>\n",
       "      <td>0.000000</td>\n",
       "      <td>0.000000</td>\n",
       "      <td>-73.952980</td>\n",
       "      <td>40.786670</td>\n",
       "      <td>5</td>\n",
       "      <td>8664.191488</td>\n",
       "      <td>2014</td>\n",
       "      <td>7</td>\n",
       "      <td>28</td>\n",
       "      <td>0</td>\n",
       "      <td>15</td>\n",
       "    </tr>\n",
       "    <tr>\n",
       "      <th>6302</th>\n",
       "      <td>16.50</td>\n",
       "      <td>0.000000</td>\n",
       "      <td>0.000000</td>\n",
       "      <td>-73.936600</td>\n",
       "      <td>40.796543</td>\n",
       "      <td>1</td>\n",
       "      <td>8663.039123</td>\n",
       "      <td>2015</td>\n",
       "      <td>2</td>\n",
       "      <td>27</td>\n",
       "      <td>4</td>\n",
       "      <td>16</td>\n",
       "    </tr>\n",
       "    <tr>\n",
       "      <th>7014</th>\n",
       "      <td>4.50</td>\n",
       "      <td>-73.988980</td>\n",
       "      <td>40.721697</td>\n",
       "      <td>-74.001073</td>\n",
       "      <td>0.728087</td>\n",
       "      <td>3</td>\n",
       "      <td>4447.086698</td>\n",
       "      <td>2011</td>\n",
       "      <td>6</td>\n",
       "      <td>18</td>\n",
       "      <td>5</td>\n",
       "      <td>4</td>\n",
       "    </tr>\n",
       "    <tr>\n",
       "      <th>8647</th>\n",
       "      <td>21.50</td>\n",
       "      <td>-74.001808</td>\n",
       "      <td>40.750782</td>\n",
       "      <td>0.000000</td>\n",
       "      <td>0.000000</td>\n",
       "      <td>1</td>\n",
       "      <td>8667.497512</td>\n",
       "      <td>2014</td>\n",
       "      <td>3</td>\n",
       "      <td>27</td>\n",
       "      <td>3</td>\n",
       "      <td>18</td>\n",
       "    </tr>\n",
       "    <tr>\n",
       "      <th>9147</th>\n",
       "      <td>8.50</td>\n",
       "      <td>0.000000</td>\n",
       "      <td>0.000000</td>\n",
       "      <td>-74.002037</td>\n",
       "      <td>40.752035</td>\n",
       "      <td>1</td>\n",
       "      <td>8667.542104</td>\n",
       "      <td>2014</td>\n",
       "      <td>7</td>\n",
       "      <td>14</td>\n",
       "      <td>0</td>\n",
       "      <td>21</td>\n",
       "    </tr>\n",
       "    <tr>\n",
       "      <th>10215</th>\n",
       "      <td>13.30</td>\n",
       "      <td>0.000000</td>\n",
       "      <td>0.000000</td>\n",
       "      <td>-73.990138</td>\n",
       "      <td>40.753392</td>\n",
       "      <td>1</td>\n",
       "      <td>8666.584706</td>\n",
       "      <td>2011</td>\n",
       "      <td>3</td>\n",
       "      <td>18</td>\n",
       "      <td>4</td>\n",
       "      <td>9</td>\n",
       "    </tr>\n",
       "    <tr>\n",
       "      <th>10458</th>\n",
       "      <td>2.50</td>\n",
       "      <td>-73.979678</td>\n",
       "      <td>40.765962</td>\n",
       "      <td>0.000000</td>\n",
       "      <td>0.000000</td>\n",
       "      <td>1</td>\n",
       "      <td>8665.976222</td>\n",
       "      <td>2013</td>\n",
       "      <td>2</td>\n",
       "      <td>23</td>\n",
       "      <td>5</td>\n",
       "      <td>20</td>\n",
       "    </tr>\n",
       "    <tr>\n",
       "      <th>10488</th>\n",
       "      <td>5.30</td>\n",
       "      <td>-73.978103</td>\n",
       "      <td>40.751798</td>\n",
       "      <td>0.000000</td>\n",
       "      <td>0.000000</td>\n",
       "      <td>1</td>\n",
       "      <td>8665.555634</td>\n",
       "      <td>2012</td>\n",
       "      <td>3</td>\n",
       "      <td>15</td>\n",
       "      <td>3</td>\n",
       "      <td>0</td>\n",
       "    </tr>\n",
       "    <tr>\n",
       "      <th>10672</th>\n",
       "      <td>18.00</td>\n",
       "      <td>-73.979355</td>\n",
       "      <td>40.753902</td>\n",
       "      <td>0.000000</td>\n",
       "      <td>0.000000</td>\n",
       "      <td>1</td>\n",
       "      <td>8665.702390</td>\n",
       "      <td>2015</td>\n",
       "      <td>4</td>\n",
       "      <td>30</td>\n",
       "      <td>3</td>\n",
       "      <td>15</td>\n",
       "    </tr>\n",
       "    <tr>\n",
       "      <th>11653</th>\n",
       "      <td>16.00</td>\n",
       "      <td>0.000000</td>\n",
       "      <td>0.000000</td>\n",
       "      <td>-73.985329</td>\n",
       "      <td>40.778534</td>\n",
       "      <td>1</td>\n",
       "      <td>8666.701504</td>\n",
       "      <td>2015</td>\n",
       "      <td>3</td>\n",
       "      <td>4</td>\n",
       "      <td>2</td>\n",
       "      <td>16</td>\n",
       "    </tr>\n",
       "    <tr>\n",
       "      <th>12705</th>\n",
       "      <td>2.50</td>\n",
       "      <td>-73.929230</td>\n",
       "      <td>40.744627</td>\n",
       "      <td>0.000000</td>\n",
       "      <td>0.000000</td>\n",
       "      <td>5</td>\n",
       "      <td>8661.362152</td>\n",
       "      <td>2012</td>\n",
       "      <td>10</td>\n",
       "      <td>31</td>\n",
       "      <td>2</td>\n",
       "      <td>14</td>\n",
       "    </tr>\n",
       "    <tr>\n",
       "      <th>12983</th>\n",
       "      <td>57.33</td>\n",
       "      <td>-73.958870</td>\n",
       "      <td>40.760012</td>\n",
       "      <td>0.000000</td>\n",
       "      <td>0.000000</td>\n",
       "      <td>1</td>\n",
       "      <td>8664.131808</td>\n",
       "      <td>2013</td>\n",
       "      <td>3</td>\n",
       "      <td>7</td>\n",
       "      <td>3</td>\n",
       "      <td>21</td>\n",
       "    </tr>\n",
       "    <tr>\n",
       "      <th>13340</th>\n",
       "      <td>18.50</td>\n",
       "      <td>0.000000</td>\n",
       "      <td>0.000000</td>\n",
       "      <td>-73.997643</td>\n",
       "      <td>40.724432</td>\n",
       "      <td>1</td>\n",
       "      <td>8666.613646</td>\n",
       "      <td>2014</td>\n",
       "      <td>3</td>\n",
       "      <td>31</td>\n",
       "      <td>0</td>\n",
       "      <td>12</td>\n",
       "    </tr>\n",
       "    <tr>\n",
       "      <th>14197</th>\n",
       "      <td>48.00</td>\n",
       "      <td>-73.870945</td>\n",
       "      <td>40.773700</td>\n",
       "      <td>0.000000</td>\n",
       "      <td>0.000000</td>\n",
       "      <td>1</td>\n",
       "      <td>8657.136619</td>\n",
       "      <td>2013</td>\n",
       "      <td>4</td>\n",
       "      <td>19</td>\n",
       "      <td>4</td>\n",
       "      <td>16</td>\n",
       "    </tr>\n",
       "    <tr>\n",
       "      <th>15749</th>\n",
       "      <td>10.90</td>\n",
       "      <td>-73.967183</td>\n",
       "      <td>40.772403</td>\n",
       "      <td>0.000000</td>\n",
       "      <td>40.740677</td>\n",
       "      <td>1</td>\n",
       "      <td>6028.926779</td>\n",
       "      <td>2012</td>\n",
       "      <td>5</td>\n",
       "      <td>12</td>\n",
       "      <td>5</td>\n",
       "      <td>17</td>\n",
       "    </tr>\n",
       "    <tr>\n",
       "      <th>15783</th>\n",
       "      <td>26.50</td>\n",
       "      <td>0.000000</td>\n",
       "      <td>0.000000</td>\n",
       "      <td>-73.867056</td>\n",
       "      <td>40.768823</td>\n",
       "      <td>1</td>\n",
       "      <td>8656.714168</td>\n",
       "      <td>2014</td>\n",
       "      <td>9</td>\n",
       "      <td>28</td>\n",
       "      <td>6</td>\n",
       "      <td>8</td>\n",
       "    </tr>\n",
       "  </tbody>\n",
       "</table>\n",
       "</div>"
      ],
      "text/plain": [
       "       fare_amount  pickup_longitude  pickup_latitude  dropoff_longitude  \\\n",
       "472           2.50          0.000000         0.000000         -74.005433   \n",
       "1260          5.70        -73.973907        40.754743           0.000000   \n",
       "2280          8.90        -73.936667        40.757815           0.000000   \n",
       "2397         45.00          0.000000         0.000000         -74.010230   \n",
       "4278          7.00        -73.972702        40.757423           0.000000   \n",
       "4597          6.90          0.000000         0.000000         -73.989693   \n",
       "5864          8.50        -73.995030        40.744945          -7.986640   \n",
       "6188         15.50          0.000000         0.000000         -73.952980   \n",
       "6302         16.50          0.000000         0.000000         -73.936600   \n",
       "7014          4.50        -73.988980        40.721697         -74.001073   \n",
       "8647         21.50        -74.001808        40.750782           0.000000   \n",
       "9147          8.50          0.000000         0.000000         -74.002037   \n",
       "10215        13.30          0.000000         0.000000         -73.990138   \n",
       "10458         2.50        -73.979678        40.765962           0.000000   \n",
       "10488         5.30        -73.978103        40.751798           0.000000   \n",
       "10672        18.00        -73.979355        40.753902           0.000000   \n",
       "11653        16.00          0.000000         0.000000         -73.985329   \n",
       "12705         2.50        -73.929230        40.744627           0.000000   \n",
       "12983        57.33        -73.958870        40.760012           0.000000   \n",
       "13340        18.50          0.000000         0.000000         -73.997643   \n",
       "14197        48.00        -73.870945        40.773700           0.000000   \n",
       "15749        10.90        -73.967183        40.772403           0.000000   \n",
       "15783        26.50          0.000000         0.000000         -73.867056   \n",
       "\n",
       "       dropoff_latitude  passenger_count  haversine_distance  year  month  \\\n",
       "472           40.726685                2         8667.304968  2009      2   \n",
       "1260           0.000000                2         8665.268588  2011      3   \n",
       "2280          40.757815                1         6026.494216  2011      8   \n",
       "2397          40.714553                2         8667.454421  2012      6   \n",
       "4278           0.000000                1         8665.223767  2015      4   \n",
       "4597          40.754280                1         8666.566030  2010      3   \n",
       "5864          40.729937                1         5420.988959  2012      3   \n",
       "6188          40.786670                5         8664.191488  2014      7   \n",
       "6302          40.796543                1         8663.039123  2015      2   \n",
       "7014           0.728087                3         4447.086698  2011      6   \n",
       "8647           0.000000                1         8667.497512  2014      3   \n",
       "9147          40.752035                1         8667.542104  2014      7   \n",
       "10215         40.753392                1         8666.584706  2011      3   \n",
       "10458          0.000000                1         8665.976222  2013      2   \n",
       "10488          0.000000                1         8665.555634  2012      3   \n",
       "10672          0.000000                1         8665.702390  2015      4   \n",
       "11653         40.778534                1         8666.701504  2015      3   \n",
       "12705          0.000000                5         8661.362152  2012     10   \n",
       "12983          0.000000                1         8664.131808  2013      3   \n",
       "13340         40.724432                1         8666.613646  2014      3   \n",
       "14197          0.000000                1         8657.136619  2013      4   \n",
       "15749         40.740677                1         6028.926779  2012      5   \n",
       "15783         40.768823                1         8656.714168  2014      9   \n",
       "\n",
       "       date  dayofweek  hour  \n",
       "472      22          6    22  \n",
       "1260     10          3    20  \n",
       "2280     29          0     8  \n",
       "2397     24          6    17  \n",
       "4278      7          1    23  \n",
       "4597     30          1     7  \n",
       "5864      4          6     1  \n",
       "6188     28          0    15  \n",
       "6302     27          4    16  \n",
       "7014     18          5     4  \n",
       "8647     27          3    18  \n",
       "9147     14          0    21  \n",
       "10215    18          4     9  \n",
       "10458    23          5    20  \n",
       "10488    15          3     0  \n",
       "10672    30          3    15  \n",
       "11653     4          2    16  \n",
       "12705    31          2    14  \n",
       "12983     7          3    21  \n",
       "13340    31          0    12  \n",
       "14197    19          4    16  \n",
       "15749    12          5    17  \n",
       "15783    28          6     8  "
      ]
     },
     "execution_count": 47,
     "metadata": {},
     "output_type": "execute_result"
    }
   ],
   "source": [
    "high_distance = train.loc[(train['haversine_distance']>200) & (train['fare_amount']!=0)]\n",
    "high_distance"
   ]
  },
  {
   "cell_type": "markdown",
   "id": "67dc84a5",
   "metadata": {},
   "source": [
    "As you see above data it is giving abnormal distance because either co-ordinates are wrong or zero. I will replace the distance by using fare for this formula is ***distance = (fare_amount - 2.5)/1.56***"
   ]
  },
  {
   "cell_type": "code",
   "execution_count": 48,
   "id": "16aa56be",
   "metadata": {},
   "outputs": [],
   "source": [
    "high_distance['haversine_distance'] = high_distance.apply(lambda row: (row['fare_amount'] - 2.50)/1.56, axis=1)"
   ]
  },
  {
   "cell_type": "code",
   "execution_count": 49,
   "id": "95712b46",
   "metadata": {},
   "outputs": [
    {
     "data": {
      "text/html": [
       "<div>\n",
       "<style scoped>\n",
       "    .dataframe tbody tr th:only-of-type {\n",
       "        vertical-align: middle;\n",
       "    }\n",
       "\n",
       "    .dataframe tbody tr th {\n",
       "        vertical-align: top;\n",
       "    }\n",
       "\n",
       "    .dataframe thead th {\n",
       "        text-align: right;\n",
       "    }\n",
       "</style>\n",
       "<table border=\"1\" class=\"dataframe\">\n",
       "  <thead>\n",
       "    <tr style=\"text-align: right;\">\n",
       "      <th></th>\n",
       "      <th>fare_amount</th>\n",
       "      <th>pickup_longitude</th>\n",
       "      <th>pickup_latitude</th>\n",
       "      <th>dropoff_longitude</th>\n",
       "      <th>dropoff_latitude</th>\n",
       "      <th>passenger_count</th>\n",
       "      <th>haversine_distance</th>\n",
       "      <th>year</th>\n",
       "      <th>month</th>\n",
       "      <th>date</th>\n",
       "      <th>dayofweek</th>\n",
       "      <th>hour</th>\n",
       "    </tr>\n",
       "  </thead>\n",
       "  <tbody>\n",
       "    <tr>\n",
       "      <th>472</th>\n",
       "      <td>2.50</td>\n",
       "      <td>0.000000</td>\n",
       "      <td>0.000000</td>\n",
       "      <td>-74.005433</td>\n",
       "      <td>40.726685</td>\n",
       "      <td>2</td>\n",
       "      <td>0.000000</td>\n",
       "      <td>2009</td>\n",
       "      <td>2</td>\n",
       "      <td>22</td>\n",
       "      <td>6</td>\n",
       "      <td>22</td>\n",
       "    </tr>\n",
       "    <tr>\n",
       "      <th>1260</th>\n",
       "      <td>5.70</td>\n",
       "      <td>-73.973907</td>\n",
       "      <td>40.754743</td>\n",
       "      <td>0.000000</td>\n",
       "      <td>0.000000</td>\n",
       "      <td>2</td>\n",
       "      <td>2.051282</td>\n",
       "      <td>2011</td>\n",
       "      <td>3</td>\n",
       "      <td>10</td>\n",
       "      <td>3</td>\n",
       "      <td>20</td>\n",
       "    </tr>\n",
       "    <tr>\n",
       "      <th>2280</th>\n",
       "      <td>8.90</td>\n",
       "      <td>-73.936667</td>\n",
       "      <td>40.757815</td>\n",
       "      <td>0.000000</td>\n",
       "      <td>40.757815</td>\n",
       "      <td>1</td>\n",
       "      <td>4.102564</td>\n",
       "      <td>2011</td>\n",
       "      <td>8</td>\n",
       "      <td>29</td>\n",
       "      <td>0</td>\n",
       "      <td>8</td>\n",
       "    </tr>\n",
       "    <tr>\n",
       "      <th>2397</th>\n",
       "      <td>45.00</td>\n",
       "      <td>0.000000</td>\n",
       "      <td>0.000000</td>\n",
       "      <td>-74.010230</td>\n",
       "      <td>40.714553</td>\n",
       "      <td>2</td>\n",
       "      <td>27.243590</td>\n",
       "      <td>2012</td>\n",
       "      <td>6</td>\n",
       "      <td>24</td>\n",
       "      <td>6</td>\n",
       "      <td>17</td>\n",
       "    </tr>\n",
       "    <tr>\n",
       "      <th>4278</th>\n",
       "      <td>7.00</td>\n",
       "      <td>-73.972702</td>\n",
       "      <td>40.757423</td>\n",
       "      <td>0.000000</td>\n",
       "      <td>0.000000</td>\n",
       "      <td>1</td>\n",
       "      <td>2.884615</td>\n",
       "      <td>2015</td>\n",
       "      <td>4</td>\n",
       "      <td>7</td>\n",
       "      <td>1</td>\n",
       "      <td>23</td>\n",
       "    </tr>\n",
       "    <tr>\n",
       "      <th>4597</th>\n",
       "      <td>6.90</td>\n",
       "      <td>0.000000</td>\n",
       "      <td>0.000000</td>\n",
       "      <td>-73.989693</td>\n",
       "      <td>40.754280</td>\n",
       "      <td>1</td>\n",
       "      <td>2.820513</td>\n",
       "      <td>2010</td>\n",
       "      <td>3</td>\n",
       "      <td>30</td>\n",
       "      <td>1</td>\n",
       "      <td>7</td>\n",
       "    </tr>\n",
       "    <tr>\n",
       "      <th>5864</th>\n",
       "      <td>8.50</td>\n",
       "      <td>-73.995030</td>\n",
       "      <td>40.744945</td>\n",
       "      <td>-7.986640</td>\n",
       "      <td>40.729937</td>\n",
       "      <td>1</td>\n",
       "      <td>3.846154</td>\n",
       "      <td>2012</td>\n",
       "      <td>3</td>\n",
       "      <td>4</td>\n",
       "      <td>6</td>\n",
       "      <td>1</td>\n",
       "    </tr>\n",
       "    <tr>\n",
       "      <th>6188</th>\n",
       "      <td>15.50</td>\n",
       "      <td>0.000000</td>\n",
       "      <td>0.000000</td>\n",
       "      <td>-73.952980</td>\n",
       "      <td>40.786670</td>\n",
       "      <td>5</td>\n",
       "      <td>8.333333</td>\n",
       "      <td>2014</td>\n",
       "      <td>7</td>\n",
       "      <td>28</td>\n",
       "      <td>0</td>\n",
       "      <td>15</td>\n",
       "    </tr>\n",
       "    <tr>\n",
       "      <th>6302</th>\n",
       "      <td>16.50</td>\n",
       "      <td>0.000000</td>\n",
       "      <td>0.000000</td>\n",
       "      <td>-73.936600</td>\n",
       "      <td>40.796543</td>\n",
       "      <td>1</td>\n",
       "      <td>8.974359</td>\n",
       "      <td>2015</td>\n",
       "      <td>2</td>\n",
       "      <td>27</td>\n",
       "      <td>4</td>\n",
       "      <td>16</td>\n",
       "    </tr>\n",
       "    <tr>\n",
       "      <th>7014</th>\n",
       "      <td>4.50</td>\n",
       "      <td>-73.988980</td>\n",
       "      <td>40.721697</td>\n",
       "      <td>-74.001073</td>\n",
       "      <td>0.728087</td>\n",
       "      <td>3</td>\n",
       "      <td>1.282051</td>\n",
       "      <td>2011</td>\n",
       "      <td>6</td>\n",
       "      <td>18</td>\n",
       "      <td>5</td>\n",
       "      <td>4</td>\n",
       "    </tr>\n",
       "    <tr>\n",
       "      <th>8647</th>\n",
       "      <td>21.50</td>\n",
       "      <td>-74.001808</td>\n",
       "      <td>40.750782</td>\n",
       "      <td>0.000000</td>\n",
       "      <td>0.000000</td>\n",
       "      <td>1</td>\n",
       "      <td>12.179487</td>\n",
       "      <td>2014</td>\n",
       "      <td>3</td>\n",
       "      <td>27</td>\n",
       "      <td>3</td>\n",
       "      <td>18</td>\n",
       "    </tr>\n",
       "    <tr>\n",
       "      <th>9147</th>\n",
       "      <td>8.50</td>\n",
       "      <td>0.000000</td>\n",
       "      <td>0.000000</td>\n",
       "      <td>-74.002037</td>\n",
       "      <td>40.752035</td>\n",
       "      <td>1</td>\n",
       "      <td>3.846154</td>\n",
       "      <td>2014</td>\n",
       "      <td>7</td>\n",
       "      <td>14</td>\n",
       "      <td>0</td>\n",
       "      <td>21</td>\n",
       "    </tr>\n",
       "    <tr>\n",
       "      <th>10215</th>\n",
       "      <td>13.30</td>\n",
       "      <td>0.000000</td>\n",
       "      <td>0.000000</td>\n",
       "      <td>-73.990138</td>\n",
       "      <td>40.753392</td>\n",
       "      <td>1</td>\n",
       "      <td>6.923077</td>\n",
       "      <td>2011</td>\n",
       "      <td>3</td>\n",
       "      <td>18</td>\n",
       "      <td>4</td>\n",
       "      <td>9</td>\n",
       "    </tr>\n",
       "    <tr>\n",
       "      <th>10458</th>\n",
       "      <td>2.50</td>\n",
       "      <td>-73.979678</td>\n",
       "      <td>40.765962</td>\n",
       "      <td>0.000000</td>\n",
       "      <td>0.000000</td>\n",
       "      <td>1</td>\n",
       "      <td>0.000000</td>\n",
       "      <td>2013</td>\n",
       "      <td>2</td>\n",
       "      <td>23</td>\n",
       "      <td>5</td>\n",
       "      <td>20</td>\n",
       "    </tr>\n",
       "    <tr>\n",
       "      <th>10488</th>\n",
       "      <td>5.30</td>\n",
       "      <td>-73.978103</td>\n",
       "      <td>40.751798</td>\n",
       "      <td>0.000000</td>\n",
       "      <td>0.000000</td>\n",
       "      <td>1</td>\n",
       "      <td>1.794872</td>\n",
       "      <td>2012</td>\n",
       "      <td>3</td>\n",
       "      <td>15</td>\n",
       "      <td>3</td>\n",
       "      <td>0</td>\n",
       "    </tr>\n",
       "    <tr>\n",
       "      <th>10672</th>\n",
       "      <td>18.00</td>\n",
       "      <td>-73.979355</td>\n",
       "      <td>40.753902</td>\n",
       "      <td>0.000000</td>\n",
       "      <td>0.000000</td>\n",
       "      <td>1</td>\n",
       "      <td>9.935897</td>\n",
       "      <td>2015</td>\n",
       "      <td>4</td>\n",
       "      <td>30</td>\n",
       "      <td>3</td>\n",
       "      <td>15</td>\n",
       "    </tr>\n",
       "    <tr>\n",
       "      <th>11653</th>\n",
       "      <td>16.00</td>\n",
       "      <td>0.000000</td>\n",
       "      <td>0.000000</td>\n",
       "      <td>-73.985329</td>\n",
       "      <td>40.778534</td>\n",
       "      <td>1</td>\n",
       "      <td>8.653846</td>\n",
       "      <td>2015</td>\n",
       "      <td>3</td>\n",
       "      <td>4</td>\n",
       "      <td>2</td>\n",
       "      <td>16</td>\n",
       "    </tr>\n",
       "    <tr>\n",
       "      <th>12705</th>\n",
       "      <td>2.50</td>\n",
       "      <td>-73.929230</td>\n",
       "      <td>40.744627</td>\n",
       "      <td>0.000000</td>\n",
       "      <td>0.000000</td>\n",
       "      <td>5</td>\n",
       "      <td>0.000000</td>\n",
       "      <td>2012</td>\n",
       "      <td>10</td>\n",
       "      <td>31</td>\n",
       "      <td>2</td>\n",
       "      <td>14</td>\n",
       "    </tr>\n",
       "    <tr>\n",
       "      <th>12983</th>\n",
       "      <td>57.33</td>\n",
       "      <td>-73.958870</td>\n",
       "      <td>40.760012</td>\n",
       "      <td>0.000000</td>\n",
       "      <td>0.000000</td>\n",
       "      <td>1</td>\n",
       "      <td>35.147436</td>\n",
       "      <td>2013</td>\n",
       "      <td>3</td>\n",
       "      <td>7</td>\n",
       "      <td>3</td>\n",
       "      <td>21</td>\n",
       "    </tr>\n",
       "    <tr>\n",
       "      <th>13340</th>\n",
       "      <td>18.50</td>\n",
       "      <td>0.000000</td>\n",
       "      <td>0.000000</td>\n",
       "      <td>-73.997643</td>\n",
       "      <td>40.724432</td>\n",
       "      <td>1</td>\n",
       "      <td>10.256410</td>\n",
       "      <td>2014</td>\n",
       "      <td>3</td>\n",
       "      <td>31</td>\n",
       "      <td>0</td>\n",
       "      <td>12</td>\n",
       "    </tr>\n",
       "    <tr>\n",
       "      <th>14197</th>\n",
       "      <td>48.00</td>\n",
       "      <td>-73.870945</td>\n",
       "      <td>40.773700</td>\n",
       "      <td>0.000000</td>\n",
       "      <td>0.000000</td>\n",
       "      <td>1</td>\n",
       "      <td>29.166667</td>\n",
       "      <td>2013</td>\n",
       "      <td>4</td>\n",
       "      <td>19</td>\n",
       "      <td>4</td>\n",
       "      <td>16</td>\n",
       "    </tr>\n",
       "    <tr>\n",
       "      <th>15749</th>\n",
       "      <td>10.90</td>\n",
       "      <td>-73.967183</td>\n",
       "      <td>40.772403</td>\n",
       "      <td>0.000000</td>\n",
       "      <td>40.740677</td>\n",
       "      <td>1</td>\n",
       "      <td>5.384615</td>\n",
       "      <td>2012</td>\n",
       "      <td>5</td>\n",
       "      <td>12</td>\n",
       "      <td>5</td>\n",
       "      <td>17</td>\n",
       "    </tr>\n",
       "    <tr>\n",
       "      <th>15783</th>\n",
       "      <td>26.50</td>\n",
       "      <td>0.000000</td>\n",
       "      <td>0.000000</td>\n",
       "      <td>-73.867056</td>\n",
       "      <td>40.768823</td>\n",
       "      <td>1</td>\n",
       "      <td>15.384615</td>\n",
       "      <td>2014</td>\n",
       "      <td>9</td>\n",
       "      <td>28</td>\n",
       "      <td>6</td>\n",
       "      <td>8</td>\n",
       "    </tr>\n",
       "  </tbody>\n",
       "</table>\n",
       "</div>"
      ],
      "text/plain": [
       "       fare_amount  pickup_longitude  pickup_latitude  dropoff_longitude  \\\n",
       "472           2.50          0.000000         0.000000         -74.005433   \n",
       "1260          5.70        -73.973907        40.754743           0.000000   \n",
       "2280          8.90        -73.936667        40.757815           0.000000   \n",
       "2397         45.00          0.000000         0.000000         -74.010230   \n",
       "4278          7.00        -73.972702        40.757423           0.000000   \n",
       "4597          6.90          0.000000         0.000000         -73.989693   \n",
       "5864          8.50        -73.995030        40.744945          -7.986640   \n",
       "6188         15.50          0.000000         0.000000         -73.952980   \n",
       "6302         16.50          0.000000         0.000000         -73.936600   \n",
       "7014          4.50        -73.988980        40.721697         -74.001073   \n",
       "8647         21.50        -74.001808        40.750782           0.000000   \n",
       "9147          8.50          0.000000         0.000000         -74.002037   \n",
       "10215        13.30          0.000000         0.000000         -73.990138   \n",
       "10458         2.50        -73.979678        40.765962           0.000000   \n",
       "10488         5.30        -73.978103        40.751798           0.000000   \n",
       "10672        18.00        -73.979355        40.753902           0.000000   \n",
       "11653        16.00          0.000000         0.000000         -73.985329   \n",
       "12705         2.50        -73.929230        40.744627           0.000000   \n",
       "12983        57.33        -73.958870        40.760012           0.000000   \n",
       "13340        18.50          0.000000         0.000000         -73.997643   \n",
       "14197        48.00        -73.870945        40.773700           0.000000   \n",
       "15749        10.90        -73.967183        40.772403           0.000000   \n",
       "15783        26.50          0.000000         0.000000         -73.867056   \n",
       "\n",
       "       dropoff_latitude  passenger_count  haversine_distance  year  month  \\\n",
       "472           40.726685                2            0.000000  2009      2   \n",
       "1260           0.000000                2            2.051282  2011      3   \n",
       "2280          40.757815                1            4.102564  2011      8   \n",
       "2397          40.714553                2           27.243590  2012      6   \n",
       "4278           0.000000                1            2.884615  2015      4   \n",
       "4597          40.754280                1            2.820513  2010      3   \n",
       "5864          40.729937                1            3.846154  2012      3   \n",
       "6188          40.786670                5            8.333333  2014      7   \n",
       "6302          40.796543                1            8.974359  2015      2   \n",
       "7014           0.728087                3            1.282051  2011      6   \n",
       "8647           0.000000                1           12.179487  2014      3   \n",
       "9147          40.752035                1            3.846154  2014      7   \n",
       "10215         40.753392                1            6.923077  2011      3   \n",
       "10458          0.000000                1            0.000000  2013      2   \n",
       "10488          0.000000                1            1.794872  2012      3   \n",
       "10672          0.000000                1            9.935897  2015      4   \n",
       "11653         40.778534                1            8.653846  2015      3   \n",
       "12705          0.000000                5            0.000000  2012     10   \n",
       "12983          0.000000                1           35.147436  2013      3   \n",
       "13340         40.724432                1           10.256410  2014      3   \n",
       "14197          0.000000                1           29.166667  2013      4   \n",
       "15749         40.740677                1            5.384615  2012      5   \n",
       "15783         40.768823                1           15.384615  2014      9   \n",
       "\n",
       "       date  dayofweek  hour  \n",
       "472      22          6    22  \n",
       "1260     10          3    20  \n",
       "2280     29          0     8  \n",
       "2397     24          6    17  \n",
       "4278      7          1    23  \n",
       "4597     30          1     7  \n",
       "5864      4          6     1  \n",
       "6188     28          0    15  \n",
       "6302     27          4    16  \n",
       "7014     18          5     4  \n",
       "8647     27          3    18  \n",
       "9147     14          0    21  \n",
       "10215    18          4     9  \n",
       "10458    23          5    20  \n",
       "10488    15          3     0  \n",
       "10672    30          3    15  \n",
       "11653     4          2    16  \n",
       "12705    31          2    14  \n",
       "12983     7          3    21  \n",
       "13340    31          0    12  \n",
       "14197    19          4    16  \n",
       "15749    12          5    17  \n",
       "15783    28          6     8  "
      ]
     },
     "execution_count": 49,
     "metadata": {},
     "output_type": "execute_result"
    }
   ],
   "source": [
    "high_distance"
   ]
  },
  {
   "cell_type": "code",
   "execution_count": 50,
   "id": "cd4b72e0",
   "metadata": {},
   "outputs": [],
   "source": [
    "train.update(high_distance)"
   ]
  },
  {
   "cell_type": "code",
   "execution_count": 51,
   "id": "6be1663f",
   "metadata": {},
   "outputs": [
    {
     "name": "stdout",
     "output_type": "stream",
     "text": [
      "Empty DataFrame\n",
      "Columns: [fare_amount, pickup_longitude, pickup_latitude, dropoff_longitude, dropoff_latitude, passenger_count, haversine_distance, year, month, date, dayofweek, hour]\n",
      "Index: []\n",
      "-----------------------------------------------------------------------\n",
      "Empty DataFrame\n",
      "Columns: [fare_amount, pickup_longitude, pickup_latitude, dropoff_longitude, dropoff_latitude, passenger_count, haversine_distance, year, month, date, dayofweek, hour]\n",
      "Index: []\n",
      "------------------------------------------------------------------------\n"
     ]
    }
   ],
   "source": [
    "l =['fare_amount']\n",
    "k=['haversine_distance']\n",
    "for i in l:\n",
    "    for j in k:\n",
    "        #To check where fare is zero and distance is zero\n",
    "        print(train[(train[i]==0) & (train[j]==0)])\n",
    "        print('-----------------------------------------------------------------------')\n",
    "        #To check whether fare is less than 2.5 and distance is zero\n",
    "        print(train[(train[i]<2.5) & (train[j]==0)])\n",
    "        print('------------------------------------------------------------------------')"
   ]
  },
  {
   "cell_type": "code",
   "execution_count": 52,
   "id": "90dbce68",
   "metadata": {},
   "outputs": [],
   "source": [
    " #To check whether fare is not zero but distance is zero\n",
    "zero_distance = train.loc[(train['fare_amount']!=0) & (train['haversine_distance']==0)]\n",
    "zero_distance['haversine_distance'] =zero_distance.apply(lambda row: (row['fare_amount'] - 2.50)/1.56, axis=1)"
   ]
  },
  {
   "cell_type": "code",
   "execution_count": 53,
   "id": "f0915e57",
   "metadata": {},
   "outputs": [],
   "source": [
    "train.update(zero_distance)"
   ]
  },
  {
   "cell_type": "code",
   "execution_count": 54,
   "id": "09d86f3f",
   "metadata": {},
   "outputs": [],
   "source": [
    "#To check whether fare is zero but distance is not zero\n",
    "zero_fare = train.loc[(train['fare_amount']==0) & (train['haversine_distance']!=0)]\n",
    "zero_fare['fare_amount'] = 2.5 + 1.56 * zero_fare['haversine_distance']"
   ]
  },
  {
   "cell_type": "code",
   "execution_count": 55,
   "id": "7bc6b0d9",
   "metadata": {},
   "outputs": [],
   "source": [
    "train.update(zero_fare)"
   ]
  },
  {
   "cell_type": "code",
   "execution_count": 56,
   "id": "889139d4",
   "metadata": {},
   "outputs": [
    {
     "data": {
      "text/html": [
       "<div>\n",
       "<style scoped>\n",
       "    .dataframe tbody tr th:only-of-type {\n",
       "        vertical-align: middle;\n",
       "    }\n",
       "\n",
       "    .dataframe tbody tr th {\n",
       "        vertical-align: top;\n",
       "    }\n",
       "\n",
       "    .dataframe thead th {\n",
       "        text-align: right;\n",
       "    }\n",
       "</style>\n",
       "<table border=\"1\" class=\"dataframe\">\n",
       "  <thead>\n",
       "    <tr style=\"text-align: right;\">\n",
       "      <th></th>\n",
       "      <th>fare_amount</th>\n",
       "      <th>pickup_longitude</th>\n",
       "      <th>pickup_latitude</th>\n",
       "      <th>dropoff_longitude</th>\n",
       "      <th>dropoff_latitude</th>\n",
       "      <th>passenger_count</th>\n",
       "      <th>haversine_distance</th>\n",
       "      <th>year</th>\n",
       "      <th>month</th>\n",
       "      <th>date</th>\n",
       "      <th>dayofweek</th>\n",
       "      <th>hour</th>\n",
       "    </tr>\n",
       "  </thead>\n",
       "  <tbody>\n",
       "    <tr>\n",
       "      <th>376</th>\n",
       "      <td>2.5</td>\n",
       "      <td>0.000000</td>\n",
       "      <td>0.000000</td>\n",
       "      <td>0.000000</td>\n",
       "      <td>0.000000</td>\n",
       "      <td>1.0</td>\n",
       "      <td>0.0</td>\n",
       "      <td>2014.0</td>\n",
       "      <td>5.0</td>\n",
       "      <td>29.0</td>\n",
       "      <td>3.0</td>\n",
       "      <td>5.0</td>\n",
       "    </tr>\n",
       "    <tr>\n",
       "      <th>472</th>\n",
       "      <td>2.5</td>\n",
       "      <td>0.000000</td>\n",
       "      <td>0.000000</td>\n",
       "      <td>-74.005433</td>\n",
       "      <td>40.726685</td>\n",
       "      <td>2.0</td>\n",
       "      <td>0.0</td>\n",
       "      <td>2009.0</td>\n",
       "      <td>2.0</td>\n",
       "      <td>22.0</td>\n",
       "      <td>6.0</td>\n",
       "      <td>22.0</td>\n",
       "    </tr>\n",
       "    <tr>\n",
       "      <th>503</th>\n",
       "      <td>2.5</td>\n",
       "      <td>-73.998720</td>\n",
       "      <td>40.624708</td>\n",
       "      <td>-73.998720</td>\n",
       "      <td>40.624708</td>\n",
       "      <td>1.0</td>\n",
       "      <td>0.0</td>\n",
       "      <td>2010.0</td>\n",
       "      <td>1.0</td>\n",
       "      <td>19.0</td>\n",
       "      <td>1.0</td>\n",
       "      <td>1.0</td>\n",
       "    </tr>\n",
       "    <tr>\n",
       "      <th>657</th>\n",
       "      <td>2.5</td>\n",
       "      <td>-73.986410</td>\n",
       "      <td>40.763350</td>\n",
       "      <td>-73.986410</td>\n",
       "      <td>40.763350</td>\n",
       "      <td>1.0</td>\n",
       "      <td>0.0</td>\n",
       "      <td>2009.0</td>\n",
       "      <td>8.0</td>\n",
       "      <td>25.0</td>\n",
       "      <td>1.0</td>\n",
       "      <td>1.0</td>\n",
       "    </tr>\n",
       "    <tr>\n",
       "      <th>958</th>\n",
       "      <td>2.5</td>\n",
       "      <td>0.000000</td>\n",
       "      <td>0.000000</td>\n",
       "      <td>0.000000</td>\n",
       "      <td>0.000000</td>\n",
       "      <td>5.0</td>\n",
       "      <td>0.0</td>\n",
       "      <td>2011.0</td>\n",
       "      <td>2.0</td>\n",
       "      <td>22.0</td>\n",
       "      <td>1.0</td>\n",
       "      <td>14.0</td>\n",
       "    </tr>\n",
       "    <tr>\n",
       "      <th>1419</th>\n",
       "      <td>2.5</td>\n",
       "      <td>-73.956556</td>\n",
       "      <td>40.779828</td>\n",
       "      <td>-73.956556</td>\n",
       "      <td>40.779828</td>\n",
       "      <td>1.0</td>\n",
       "      <td>0.0</td>\n",
       "      <td>2013.0</td>\n",
       "      <td>7.0</td>\n",
       "      <td>21.0</td>\n",
       "      <td>6.0</td>\n",
       "      <td>0.0</td>\n",
       "    </tr>\n",
       "    <tr>\n",
       "      <th>1774</th>\n",
       "      <td>2.5</td>\n",
       "      <td>-73.950282</td>\n",
       "      <td>40.701282</td>\n",
       "      <td>-73.950282</td>\n",
       "      <td>40.701282</td>\n",
       "      <td>1.0</td>\n",
       "      <td>0.0</td>\n",
       "      <td>2012.0</td>\n",
       "      <td>8.0</td>\n",
       "      <td>27.0</td>\n",
       "      <td>0.0</td>\n",
       "      <td>15.0</td>\n",
       "    </tr>\n",
       "    <tr>\n",
       "      <th>3168</th>\n",
       "      <td>2.5</td>\n",
       "      <td>0.000000</td>\n",
       "      <td>0.000000</td>\n",
       "      <td>0.000000</td>\n",
       "      <td>0.000000</td>\n",
       "      <td>1.0</td>\n",
       "      <td>0.0</td>\n",
       "      <td>2012.0</td>\n",
       "      <td>7.0</td>\n",
       "      <td>6.0</td>\n",
       "      <td>4.0</td>\n",
       "      <td>22.0</td>\n",
       "    </tr>\n",
       "    <tr>\n",
       "      <th>4367</th>\n",
       "      <td>2.5</td>\n",
       "      <td>-73.948410</td>\n",
       "      <td>40.744969</td>\n",
       "      <td>-73.948410</td>\n",
       "      <td>40.744969</td>\n",
       "      <td>1.0</td>\n",
       "      <td>0.0</td>\n",
       "      <td>2014.0</td>\n",
       "      <td>1.0</td>\n",
       "      <td>13.0</td>\n",
       "      <td>0.0</td>\n",
       "      <td>16.0</td>\n",
       "    </tr>\n",
       "    <tr>\n",
       "      <th>4954</th>\n",
       "      <td>2.5</td>\n",
       "      <td>-73.983934</td>\n",
       "      <td>40.754938</td>\n",
       "      <td>-73.983934</td>\n",
       "      <td>40.754938</td>\n",
       "      <td>1.0</td>\n",
       "      <td>0.0</td>\n",
       "      <td>2010.0</td>\n",
       "      <td>1.0</td>\n",
       "      <td>10.0</td>\n",
       "      <td>6.0</td>\n",
       "      <td>13.0</td>\n",
       "    </tr>\n",
       "    <tr>\n",
       "      <th>5449</th>\n",
       "      <td>2.5</td>\n",
       "      <td>-73.934094</td>\n",
       "      <td>40.751906</td>\n",
       "      <td>-73.934094</td>\n",
       "      <td>40.751906</td>\n",
       "      <td>1.0</td>\n",
       "      <td>0.0</td>\n",
       "      <td>2010.0</td>\n",
       "      <td>7.0</td>\n",
       "      <td>17.0</td>\n",
       "      <td>5.0</td>\n",
       "      <td>6.0</td>\n",
       "    </tr>\n",
       "    <tr>\n",
       "      <th>6007</th>\n",
       "      <td>2.5</td>\n",
       "      <td>0.000000</td>\n",
       "      <td>0.000000</td>\n",
       "      <td>0.000000</td>\n",
       "      <td>0.000000</td>\n",
       "      <td>1.0</td>\n",
       "      <td>0.0</td>\n",
       "      <td>2012.0</td>\n",
       "      <td>11.0</td>\n",
       "      <td>21.0</td>\n",
       "      <td>2.0</td>\n",
       "      <td>12.0</td>\n",
       "    </tr>\n",
       "    <tr>\n",
       "      <th>6297</th>\n",
       "      <td>2.5</td>\n",
       "      <td>0.000000</td>\n",
       "      <td>0.000000</td>\n",
       "      <td>0.000000</td>\n",
       "      <td>0.000000</td>\n",
       "      <td>1.0</td>\n",
       "      <td>0.0</td>\n",
       "      <td>2010.0</td>\n",
       "      <td>11.0</td>\n",
       "      <td>15.0</td>\n",
       "      <td>0.0</td>\n",
       "      <td>9.0</td>\n",
       "    </tr>\n",
       "    <tr>\n",
       "      <th>6632</th>\n",
       "      <td>2.5</td>\n",
       "      <td>-74.001027</td>\n",
       "      <td>40.727612</td>\n",
       "      <td>-74.001027</td>\n",
       "      <td>40.727612</td>\n",
       "      <td>1.0</td>\n",
       "      <td>0.0</td>\n",
       "      <td>2010.0</td>\n",
       "      <td>7.0</td>\n",
       "      <td>28.0</td>\n",
       "      <td>2.0</td>\n",
       "      <td>17.0</td>\n",
       "    </tr>\n",
       "    <tr>\n",
       "      <th>7408</th>\n",
       "      <td>2.5</td>\n",
       "      <td>-73.960443</td>\n",
       "      <td>40.761375</td>\n",
       "      <td>-73.960443</td>\n",
       "      <td>40.761375</td>\n",
       "      <td>1.0</td>\n",
       "      <td>0.0</td>\n",
       "      <td>2011.0</td>\n",
       "      <td>1.0</td>\n",
       "      <td>18.0</td>\n",
       "      <td>1.0</td>\n",
       "      <td>16.0</td>\n",
       "    </tr>\n",
       "    <tr>\n",
       "      <th>8711</th>\n",
       "      <td>2.5</td>\n",
       "      <td>-73.978626</td>\n",
       "      <td>40.744067</td>\n",
       "      <td>-73.978626</td>\n",
       "      <td>40.744067</td>\n",
       "      <td>1.0</td>\n",
       "      <td>0.0</td>\n",
       "      <td>2013.0</td>\n",
       "      <td>1.0</td>\n",
       "      <td>2.0</td>\n",
       "      <td>2.0</td>\n",
       "      <td>9.0</td>\n",
       "    </tr>\n",
       "    <tr>\n",
       "      <th>9177</th>\n",
       "      <td>2.5</td>\n",
       "      <td>-73.946993</td>\n",
       "      <td>40.744583</td>\n",
       "      <td>-73.946993</td>\n",
       "      <td>40.744583</td>\n",
       "      <td>3.0</td>\n",
       "      <td>0.0</td>\n",
       "      <td>2010.0</td>\n",
       "      <td>12.0</td>\n",
       "      <td>6.0</td>\n",
       "      <td>0.0</td>\n",
       "      <td>11.0</td>\n",
       "    </tr>\n",
       "    <tr>\n",
       "      <th>9621</th>\n",
       "      <td>2.5</td>\n",
       "      <td>0.000000</td>\n",
       "      <td>0.000000</td>\n",
       "      <td>0.000000</td>\n",
       "      <td>0.000000</td>\n",
       "      <td>1.0</td>\n",
       "      <td>0.0</td>\n",
       "      <td>2015.0</td>\n",
       "      <td>3.0</td>\n",
       "      <td>1.0</td>\n",
       "      <td>6.0</td>\n",
       "      <td>22.0</td>\n",
       "    </tr>\n",
       "    <tr>\n",
       "      <th>9773</th>\n",
       "      <td>2.5</td>\n",
       "      <td>-73.874439</td>\n",
       "      <td>40.773819</td>\n",
       "      <td>-73.874439</td>\n",
       "      <td>40.773819</td>\n",
       "      <td>1.0</td>\n",
       "      <td>0.0</td>\n",
       "      <td>2013.0</td>\n",
       "      <td>3.0</td>\n",
       "      <td>29.0</td>\n",
       "      <td>4.0</td>\n",
       "      <td>18.0</td>\n",
       "    </tr>\n",
       "    <tr>\n",
       "      <th>10458</th>\n",
       "      <td>2.5</td>\n",
       "      <td>-73.979678</td>\n",
       "      <td>40.765962</td>\n",
       "      <td>0.000000</td>\n",
       "      <td>0.000000</td>\n",
       "      <td>1.0</td>\n",
       "      <td>0.0</td>\n",
       "      <td>2013.0</td>\n",
       "      <td>2.0</td>\n",
       "      <td>23.0</td>\n",
       "      <td>5.0</td>\n",
       "      <td>20.0</td>\n",
       "    </tr>\n",
       "    <tr>\n",
       "      <th>10705</th>\n",
       "      <td>2.5</td>\n",
       "      <td>-73.950813</td>\n",
       "      <td>40.771671</td>\n",
       "      <td>-73.950813</td>\n",
       "      <td>40.771671</td>\n",
       "      <td>1.0</td>\n",
       "      <td>0.0</td>\n",
       "      <td>2013.0</td>\n",
       "      <td>9.0</td>\n",
       "      <td>13.0</td>\n",
       "      <td>4.0</td>\n",
       "      <td>16.0</td>\n",
       "    </tr>\n",
       "    <tr>\n",
       "      <th>11062</th>\n",
       "      <td>2.5</td>\n",
       "      <td>0.000000</td>\n",
       "      <td>0.000000</td>\n",
       "      <td>0.000000</td>\n",
       "      <td>0.000000</td>\n",
       "      <td>1.0</td>\n",
       "      <td>0.0</td>\n",
       "      <td>2013.0</td>\n",
       "      <td>5.0</td>\n",
       "      <td>1.0</td>\n",
       "      <td>2.0</td>\n",
       "      <td>6.0</td>\n",
       "    </tr>\n",
       "    <tr>\n",
       "      <th>12598</th>\n",
       "      <td>2.5</td>\n",
       "      <td>0.000000</td>\n",
       "      <td>0.000000</td>\n",
       "      <td>0.000000</td>\n",
       "      <td>0.000000</td>\n",
       "      <td>5.0</td>\n",
       "      <td>0.0</td>\n",
       "      <td>2012.0</td>\n",
       "      <td>1.0</td>\n",
       "      <td>25.0</td>\n",
       "      <td>2.0</td>\n",
       "      <td>18.0</td>\n",
       "    </tr>\n",
       "    <tr>\n",
       "      <th>12705</th>\n",
       "      <td>2.5</td>\n",
       "      <td>-73.929230</td>\n",
       "      <td>40.744627</td>\n",
       "      <td>0.000000</td>\n",
       "      <td>0.000000</td>\n",
       "      <td>5.0</td>\n",
       "      <td>0.0</td>\n",
       "      <td>2012.0</td>\n",
       "      <td>10.0</td>\n",
       "      <td>31.0</td>\n",
       "      <td>2.0</td>\n",
       "      <td>14.0</td>\n",
       "    </tr>\n",
       "    <tr>\n",
       "      <th>13221</th>\n",
       "      <td>2.5</td>\n",
       "      <td>0.000000</td>\n",
       "      <td>0.000000</td>\n",
       "      <td>0.000000</td>\n",
       "      <td>0.000000</td>\n",
       "      <td>1.0</td>\n",
       "      <td>0.0</td>\n",
       "      <td>2012.0</td>\n",
       "      <td>9.0</td>\n",
       "      <td>29.0</td>\n",
       "      <td>5.0</td>\n",
       "      <td>8.0</td>\n",
       "    </tr>\n",
       "    <tr>\n",
       "      <th>13571</th>\n",
       "      <td>2.5</td>\n",
       "      <td>-73.416169</td>\n",
       "      <td>40.784140</td>\n",
       "      <td>-73.416169</td>\n",
       "      <td>40.784140</td>\n",
       "      <td>1.0</td>\n",
       "      <td>0.0</td>\n",
       "      <td>2009.0</td>\n",
       "      <td>3.0</td>\n",
       "      <td>9.0</td>\n",
       "      <td>0.0</td>\n",
       "      <td>12.0</td>\n",
       "    </tr>\n",
       "    <tr>\n",
       "      <th>14304</th>\n",
       "      <td>2.5</td>\n",
       "      <td>0.000000</td>\n",
       "      <td>0.000000</td>\n",
       "      <td>0.000000</td>\n",
       "      <td>0.000000</td>\n",
       "      <td>1.0</td>\n",
       "      <td>0.0</td>\n",
       "      <td>2012.0</td>\n",
       "      <td>3.0</td>\n",
       "      <td>15.0</td>\n",
       "      <td>3.0</td>\n",
       "      <td>17.0</td>\n",
       "    </tr>\n",
       "  </tbody>\n",
       "</table>\n",
       "</div>"
      ],
      "text/plain": [
       "       fare_amount  pickup_longitude  pickup_latitude  dropoff_longitude  \\\n",
       "376            2.5          0.000000         0.000000           0.000000   \n",
       "472            2.5          0.000000         0.000000         -74.005433   \n",
       "503            2.5        -73.998720        40.624708         -73.998720   \n",
       "657            2.5        -73.986410        40.763350         -73.986410   \n",
       "958            2.5          0.000000         0.000000           0.000000   \n",
       "1419           2.5        -73.956556        40.779828         -73.956556   \n",
       "1774           2.5        -73.950282        40.701282         -73.950282   \n",
       "3168           2.5          0.000000         0.000000           0.000000   \n",
       "4367           2.5        -73.948410        40.744969         -73.948410   \n",
       "4954           2.5        -73.983934        40.754938         -73.983934   \n",
       "5449           2.5        -73.934094        40.751906         -73.934094   \n",
       "6007           2.5          0.000000         0.000000           0.000000   \n",
       "6297           2.5          0.000000         0.000000           0.000000   \n",
       "6632           2.5        -74.001027        40.727612         -74.001027   \n",
       "7408           2.5        -73.960443        40.761375         -73.960443   \n",
       "8711           2.5        -73.978626        40.744067         -73.978626   \n",
       "9177           2.5        -73.946993        40.744583         -73.946993   \n",
       "9621           2.5          0.000000         0.000000           0.000000   \n",
       "9773           2.5        -73.874439        40.773819         -73.874439   \n",
       "10458          2.5        -73.979678        40.765962           0.000000   \n",
       "10705          2.5        -73.950813        40.771671         -73.950813   \n",
       "11062          2.5          0.000000         0.000000           0.000000   \n",
       "12598          2.5          0.000000         0.000000           0.000000   \n",
       "12705          2.5        -73.929230        40.744627           0.000000   \n",
       "13221          2.5          0.000000         0.000000           0.000000   \n",
       "13571          2.5        -73.416169        40.784140         -73.416169   \n",
       "14304          2.5          0.000000         0.000000           0.000000   \n",
       "\n",
       "       dropoff_latitude  passenger_count  haversine_distance    year  month  \\\n",
       "376            0.000000              1.0                 0.0  2014.0    5.0   \n",
       "472           40.726685              2.0                 0.0  2009.0    2.0   \n",
       "503           40.624708              1.0                 0.0  2010.0    1.0   \n",
       "657           40.763350              1.0                 0.0  2009.0    8.0   \n",
       "958            0.000000              5.0                 0.0  2011.0    2.0   \n",
       "1419          40.779828              1.0                 0.0  2013.0    7.0   \n",
       "1774          40.701282              1.0                 0.0  2012.0    8.0   \n",
       "3168           0.000000              1.0                 0.0  2012.0    7.0   \n",
       "4367          40.744969              1.0                 0.0  2014.0    1.0   \n",
       "4954          40.754938              1.0                 0.0  2010.0    1.0   \n",
       "5449          40.751906              1.0                 0.0  2010.0    7.0   \n",
       "6007           0.000000              1.0                 0.0  2012.0   11.0   \n",
       "6297           0.000000              1.0                 0.0  2010.0   11.0   \n",
       "6632          40.727612              1.0                 0.0  2010.0    7.0   \n",
       "7408          40.761375              1.0                 0.0  2011.0    1.0   \n",
       "8711          40.744067              1.0                 0.0  2013.0    1.0   \n",
       "9177          40.744583              3.0                 0.0  2010.0   12.0   \n",
       "9621           0.000000              1.0                 0.0  2015.0    3.0   \n",
       "9773          40.773819              1.0                 0.0  2013.0    3.0   \n",
       "10458          0.000000              1.0                 0.0  2013.0    2.0   \n",
       "10705         40.771671              1.0                 0.0  2013.0    9.0   \n",
       "11062          0.000000              1.0                 0.0  2013.0    5.0   \n",
       "12598          0.000000              5.0                 0.0  2012.0    1.0   \n",
       "12705          0.000000              5.0                 0.0  2012.0   10.0   \n",
       "13221          0.000000              1.0                 0.0  2012.0    9.0   \n",
       "13571         40.784140              1.0                 0.0  2009.0    3.0   \n",
       "14304          0.000000              1.0                 0.0  2012.0    3.0   \n",
       "\n",
       "       date  dayofweek  hour  \n",
       "376    29.0        3.0   5.0  \n",
       "472    22.0        6.0  22.0  \n",
       "503    19.0        1.0   1.0  \n",
       "657    25.0        1.0   1.0  \n",
       "958    22.0        1.0  14.0  \n",
       "1419   21.0        6.0   0.0  \n",
       "1774   27.0        0.0  15.0  \n",
       "3168    6.0        4.0  22.0  \n",
       "4367   13.0        0.0  16.0  \n",
       "4954   10.0        6.0  13.0  \n",
       "5449   17.0        5.0   6.0  \n",
       "6007   21.0        2.0  12.0  \n",
       "6297   15.0        0.0   9.0  \n",
       "6632   28.0        2.0  17.0  \n",
       "7408   18.0        1.0  16.0  \n",
       "8711    2.0        2.0   9.0  \n",
       "9177    6.0        0.0  11.0  \n",
       "9621    1.0        6.0  22.0  \n",
       "9773   29.0        4.0  18.0  \n",
       "10458  23.0        5.0  20.0  \n",
       "10705  13.0        4.0  16.0  \n",
       "11062   1.0        2.0   6.0  \n",
       "12598  25.0        2.0  18.0  \n",
       "12705  31.0        2.0  14.0  \n",
       "13221  29.0        5.0   8.0  \n",
       "13571   9.0        0.0  12.0  \n",
       "14304  15.0        3.0  17.0  "
      ]
     },
     "execution_count": 56,
     "metadata": {},
     "output_type": "execute_result"
    }
   ],
   "source": [
    "train[train['haversine_distance']==0]"
   ]
  },
  {
   "cell_type": "code",
   "execution_count": 57,
   "id": "2aee0eee",
   "metadata": {},
   "outputs": [
    {
     "data": {
      "text/html": [
       "<div>\n",
       "<style scoped>\n",
       "    .dataframe tbody tr th:only-of-type {\n",
       "        vertical-align: middle;\n",
       "    }\n",
       "\n",
       "    .dataframe tbody tr th {\n",
       "        vertical-align: top;\n",
       "    }\n",
       "\n",
       "    .dataframe thead th {\n",
       "        text-align: right;\n",
       "    }\n",
       "</style>\n",
       "<table border=\"1\" class=\"dataframe\">\n",
       "  <thead>\n",
       "    <tr style=\"text-align: right;\">\n",
       "      <th></th>\n",
       "      <th>fare_amount</th>\n",
       "      <th>pickup_longitude</th>\n",
       "      <th>pickup_latitude</th>\n",
       "      <th>dropoff_longitude</th>\n",
       "      <th>dropoff_latitude</th>\n",
       "      <th>passenger_count</th>\n",
       "      <th>haversine_distance</th>\n",
       "      <th>year</th>\n",
       "      <th>month</th>\n",
       "      <th>date</th>\n",
       "      <th>dayofweek</th>\n",
       "      <th>hour</th>\n",
       "    </tr>\n",
       "  </thead>\n",
       "  <tbody>\n",
       "    <tr>\n",
       "      <th>0</th>\n",
       "      <td>4.5</td>\n",
       "      <td>-73.844311</td>\n",
       "      <td>40.721319</td>\n",
       "      <td>-73.841610</td>\n",
       "      <td>40.712278</td>\n",
       "      <td>1.0</td>\n",
       "      <td>1.030764</td>\n",
       "      <td>2009.0</td>\n",
       "      <td>6.0</td>\n",
       "      <td>15.0</td>\n",
       "      <td>0.0</td>\n",
       "      <td>17.0</td>\n",
       "    </tr>\n",
       "    <tr>\n",
       "      <th>1</th>\n",
       "      <td>16.9</td>\n",
       "      <td>-74.016048</td>\n",
       "      <td>40.711303</td>\n",
       "      <td>-73.979268</td>\n",
       "      <td>40.782004</td>\n",
       "      <td>1.0</td>\n",
       "      <td>8.450134</td>\n",
       "      <td>2010.0</td>\n",
       "      <td>1.0</td>\n",
       "      <td>5.0</td>\n",
       "      <td>1.0</td>\n",
       "      <td>16.0</td>\n",
       "    </tr>\n",
       "    <tr>\n",
       "      <th>2</th>\n",
       "      <td>5.7</td>\n",
       "      <td>-73.982738</td>\n",
       "      <td>40.761270</td>\n",
       "      <td>-73.991242</td>\n",
       "      <td>40.750562</td>\n",
       "      <td>2.0</td>\n",
       "      <td>1.389525</td>\n",
       "      <td>2011.0</td>\n",
       "      <td>8.0</td>\n",
       "      <td>18.0</td>\n",
       "      <td>3.0</td>\n",
       "      <td>0.0</td>\n",
       "    </tr>\n",
       "    <tr>\n",
       "      <th>3</th>\n",
       "      <td>7.7</td>\n",
       "      <td>-73.987130</td>\n",
       "      <td>40.733143</td>\n",
       "      <td>-73.991567</td>\n",
       "      <td>40.758092</td>\n",
       "      <td>1.0</td>\n",
       "      <td>2.799270</td>\n",
       "      <td>2012.0</td>\n",
       "      <td>4.0</td>\n",
       "      <td>21.0</td>\n",
       "      <td>5.0</td>\n",
       "      <td>4.0</td>\n",
       "    </tr>\n",
       "    <tr>\n",
       "      <th>4</th>\n",
       "      <td>5.3</td>\n",
       "      <td>-73.968095</td>\n",
       "      <td>40.768008</td>\n",
       "      <td>-73.956655</td>\n",
       "      <td>40.783762</td>\n",
       "      <td>1.0</td>\n",
       "      <td>1.999157</td>\n",
       "      <td>2010.0</td>\n",
       "      <td>3.0</td>\n",
       "      <td>9.0</td>\n",
       "      <td>1.0</td>\n",
       "      <td>7.0</td>\n",
       "    </tr>\n",
       "    <tr>\n",
       "      <th>...</th>\n",
       "      <td>...</td>\n",
       "      <td>...</td>\n",
       "      <td>...</td>\n",
       "      <td>...</td>\n",
       "      <td>...</td>\n",
       "      <td>...</td>\n",
       "      <td>...</td>\n",
       "      <td>...</td>\n",
       "      <td>...</td>\n",
       "      <td>...</td>\n",
       "      <td>...</td>\n",
       "      <td>...</td>\n",
       "    </tr>\n",
       "    <tr>\n",
       "      <th>16061</th>\n",
       "      <td>10.9</td>\n",
       "      <td>-73.994191</td>\n",
       "      <td>40.751138</td>\n",
       "      <td>-73.962769</td>\n",
       "      <td>40.769719</td>\n",
       "      <td>1.0</td>\n",
       "      <td>3.357490</td>\n",
       "      <td>2009.0</td>\n",
       "      <td>5.0</td>\n",
       "      <td>20.0</td>\n",
       "      <td>2.0</td>\n",
       "      <td>18.0</td>\n",
       "    </tr>\n",
       "    <tr>\n",
       "      <th>16062</th>\n",
       "      <td>6.5</td>\n",
       "      <td>-74.008820</td>\n",
       "      <td>40.718757</td>\n",
       "      <td>-73.998865</td>\n",
       "      <td>40.719987</td>\n",
       "      <td>1.0</td>\n",
       "      <td>0.850044</td>\n",
       "      <td>2014.0</td>\n",
       "      <td>12.0</td>\n",
       "      <td>12.0</td>\n",
       "      <td>4.0</td>\n",
       "      <td>7.0</td>\n",
       "    </tr>\n",
       "    <tr>\n",
       "      <th>16063</th>\n",
       "      <td>16.1</td>\n",
       "      <td>-73.981310</td>\n",
       "      <td>40.781695</td>\n",
       "      <td>-74.014392</td>\n",
       "      <td>40.715527</td>\n",
       "      <td>2.0</td>\n",
       "      <td>7.867638</td>\n",
       "      <td>2009.0</td>\n",
       "      <td>7.0</td>\n",
       "      <td>13.0</td>\n",
       "      <td>0.0</td>\n",
       "      <td>7.0</td>\n",
       "    </tr>\n",
       "    <tr>\n",
       "      <th>16064</th>\n",
       "      <td>8.5</td>\n",
       "      <td>-73.972507</td>\n",
       "      <td>40.753417</td>\n",
       "      <td>-73.979577</td>\n",
       "      <td>40.765495</td>\n",
       "      <td>1.0</td>\n",
       "      <td>1.469105</td>\n",
       "      <td>2009.0</td>\n",
       "      <td>11.0</td>\n",
       "      <td>11.0</td>\n",
       "      <td>2.0</td>\n",
       "      <td>11.0</td>\n",
       "    </tr>\n",
       "    <tr>\n",
       "      <th>16065</th>\n",
       "      <td>8.1</td>\n",
       "      <td>-73.957027</td>\n",
       "      <td>40.765945</td>\n",
       "      <td>-73.981983</td>\n",
       "      <td>40.779560</td>\n",
       "      <td>1.0</td>\n",
       "      <td>2.590036</td>\n",
       "      <td>2010.0</td>\n",
       "      <td>5.0</td>\n",
       "      <td>11.0</td>\n",
       "      <td>1.0</td>\n",
       "      <td>23.0</td>\n",
       "    </tr>\n",
       "  </tbody>\n",
       "</table>\n",
       "<p>15873 rows × 12 columns</p>\n",
       "</div>"
      ],
      "text/plain": [
       "       fare_amount  pickup_longitude  pickup_latitude  dropoff_longitude  \\\n",
       "0              4.5        -73.844311        40.721319         -73.841610   \n",
       "1             16.9        -74.016048        40.711303         -73.979268   \n",
       "2              5.7        -73.982738        40.761270         -73.991242   \n",
       "3              7.7        -73.987130        40.733143         -73.991567   \n",
       "4              5.3        -73.968095        40.768008         -73.956655   \n",
       "...            ...               ...              ...                ...   \n",
       "16061         10.9        -73.994191        40.751138         -73.962769   \n",
       "16062          6.5        -74.008820        40.718757         -73.998865   \n",
       "16063         16.1        -73.981310        40.781695         -74.014392   \n",
       "16064          8.5        -73.972507        40.753417         -73.979577   \n",
       "16065          8.1        -73.957027        40.765945         -73.981983   \n",
       "\n",
       "       dropoff_latitude  passenger_count  haversine_distance    year  month  \\\n",
       "0             40.712278              1.0            1.030764  2009.0    6.0   \n",
       "1             40.782004              1.0            8.450134  2010.0    1.0   \n",
       "2             40.750562              2.0            1.389525  2011.0    8.0   \n",
       "3             40.758092              1.0            2.799270  2012.0    4.0   \n",
       "4             40.783762              1.0            1.999157  2010.0    3.0   \n",
       "...                 ...              ...                 ...     ...    ...   \n",
       "16061         40.769719              1.0            3.357490  2009.0    5.0   \n",
       "16062         40.719987              1.0            0.850044  2014.0   12.0   \n",
       "16063         40.715527              2.0            7.867638  2009.0    7.0   \n",
       "16064         40.765495              1.0            1.469105  2009.0   11.0   \n",
       "16065         40.779560              1.0            2.590036  2010.0    5.0   \n",
       "\n",
       "       date  dayofweek  hour  \n",
       "0      15.0        0.0  17.0  \n",
       "1       5.0        1.0  16.0  \n",
       "2      18.0        3.0   0.0  \n",
       "3      21.0        5.0   4.0  \n",
       "4       9.0        1.0   7.0  \n",
       "...     ...        ...   ...  \n",
       "16061  20.0        2.0  18.0  \n",
       "16062  12.0        4.0   7.0  \n",
       "16063  13.0        0.0   7.0  \n",
       "16064  11.0        2.0  11.0  \n",
       "16065  11.0        1.0  23.0  \n",
       "\n",
       "[15873 rows x 12 columns]"
      ]
     },
     "execution_count": 57,
     "metadata": {},
     "output_type": "execute_result"
    }
   ],
   "source": [
    "#Dropping the rows with distance xero because it has pickup and drop co-ordinates are same\n",
    "train.drop(train[train['haversine_distance']==0].index, axis=0)"
   ]
  },
  {
   "cell_type": "markdown",
   "id": "da1b8e85",
   "metadata": {},
   "source": [
    "# Univariate Analysis"
   ]
  },
  {
   "cell_type": "code",
   "execution_count": 58,
   "id": "fc43b1f3",
   "metadata": {},
   "outputs": [
    {
     "data": {
      "image/png": "[encoded data removed]",
      "text/plain": [
       "<Figure size 720x360 with 1 Axes>"
      ]
     },
     "metadata": {
      "needs_background": "light"
     },
     "output_type": "display_data"
    },
    {
     "data": {
      "image/png": "[encoded data removed]",
      "text/plain": [
       "<Figure size 720x360 with 1 Axes>"
      ]
     },
     "metadata": {
      "needs_background": "light"
     },
     "output_type": "display_data"
    },
    {
     "data": {
      "image/png": "[encoded data removed]",
      "text/plain": [
       "<Figure size 720x360 with 1 Axes>"
      ]
     },
     "metadata": {
      "needs_background": "light"
     },
     "output_type": "display_data"
    },
    {
     "data": {
      "image/png": "[encoded data removed]",
      "text/plain": [
       "<Figure size 720x360 with 1 Axes>"
      ]
     },
     "metadata": {
      "needs_background": "light"
     },
     "output_type": "display_data"
    },
    {
     "data": {
      "image/png": "[encoded data removed]",
      "text/plain": [
       "<Figure size 720x360 with 1 Axes>"
      ]
     },
     "metadata": {
      "needs_background": "light"
     },
     "output_type": "display_data"
    },
    {
     "data": {
      "image/png": "[encoded data removed]",
      "text/plain": [
       "<Figure size 720x360 with 1 Axes>"
      ]
     },
     "metadata": {
      "needs_background": "light"
     },
     "output_type": "display_data"
    },
    {
     "data": {
      "image/png": "[encoded data removed]",
      "text/plain": [
       "<Figure size 720x360 with 1 Axes>"
      ]
     },
     "metadata": {
      "needs_background": "light"
     },
     "output_type": "display_data"
    },
    {
     "data": {
      "image/png": "[encoded data removed]",
      "text/plain": [
       "<Figure size 720x360 with 1 Axes>"
      ]
     },
     "metadata": {
      "needs_background": "light"
     },
     "output_type": "display_data"
    },
    {
     "data": {
      "image/png": "[encoded data removed]",
      "text/plain": [
       "<Figure size 720x360 with 1 Axes>"
      ]
     },
     "metadata": {
      "needs_background": "light"
     },
     "output_type": "display_data"
    },
    {
     "data": {
      "image/png": "[encoded data removed]",
      "text/plain": [
       "<Figure size 720x360 with 1 Axes>"
      ]
     },
     "metadata": {
      "needs_background": "light"
     },
     "output_type": "display_data"
    },
    {
     "data": {
      "image/png": "[encoded data removed]",
      "text/plain": [
       "<Figure size 720x360 with 1 Axes>"
      ]
     },
     "metadata": {
      "needs_background": "light"
     },
     "output_type": "display_data"
    },
    {
     "data": {
      "image/png": "[encoded data removed]",
      "text/plain": [
       "<Figure size 720x360 with 1 Axes>"
      ]
     },
     "metadata": {
      "needs_background": "light"
     },
     "output_type": "display_data"
    }
   ],
   "source": [
    "for i in train.columns:\n",
    "    plt.figure(figsize=(10,5))\n",
    "    plt.hist(i, bins=100, data=train)\n",
    "    plt.title(i)\n",
    "    plt.show()"
   ]
  },
  {
   "cell_type": "markdown",
   "id": "369beffe",
   "metadata": {},
   "source": [
    "# Bivariate Analysis"
   ]
  },
  {
   "cell_type": "code",
   "execution_count": 59,
   "id": "56e07913",
   "metadata": {},
   "outputs": [
    {
     "data": {
      "text/plain": [
       "<matplotlib.collections.PathCollection at 0x21ecbc8ecd0>"
      ]
     },
     "execution_count": 59,
     "metadata": {},
     "output_type": "execute_result"
    },
    {
     "data": {
      "image/png": "[encoded data removed]",
      "text/plain": [
       "<Figure size 432x288 with 1 Axes>"
      ]
     },
     "metadata": {
      "needs_background": "light"
     },
     "output_type": "display_data"
    }
   ],
   "source": [
    "plt.scatter(y='fare_amount', x='haversine_distance',data=train)"
   ]
  },
  {
   "cell_type": "markdown",
   "id": "4fd5c46d",
   "metadata": {},
   "source": [
    "From above data it is seen that ***1) Maximum fare ranges from 0 doller to 25 dollers***, ***2)Most of cab booked for single passengers***, ***3) Most cabs booked for within 20 km***"
   ]
  },
  {
   "cell_type": "markdown",
   "id": "7573eeef",
   "metadata": {},
   "source": [
    "# Feature Selection"
   ]
  },
  {
   "cell_type": "code",
   "execution_count": 60,
   "id": "34fd317d",
   "metadata": {},
   "outputs": [
    {
     "data": {
      "text/plain": [
       "fare_amount           float64\n",
       "pickup_longitude      float64\n",
       "pickup_latitude       float64\n",
       "dropoff_longitude     float64\n",
       "dropoff_latitude      float64\n",
       "passenger_count       float64\n",
       "haversine_distance    float64\n",
       "year                  float64\n",
       "month                 float64\n",
       "date                  float64\n",
       "dayofweek             float64\n",
       "hour                  float64\n",
       "dtype: object"
      ]
     },
     "execution_count": 60,
     "metadata": {},
     "output_type": "execute_result"
    }
   ],
   "source": [
    "train.dtypes"
   ]
  },
  {
   "cell_type": "markdown",
   "id": "6f2fc64c",
   "metadata": {},
   "source": [
    "Let's convert passenger count into integer and year, month, date, dayofweek, hour into categorical"
   ]
  },
  {
   "cell_type": "code",
   "execution_count": 61,
   "id": "c5d593dc",
   "metadata": {},
   "outputs": [],
   "source": [
    "train['passenger_count'] = train['passenger_count'].astype('int64')"
   ]
  },
  {
   "cell_type": "code",
   "execution_count": 62,
   "id": "f65b326e",
   "metadata": {},
   "outputs": [],
   "source": [
    "data = [train,test]\n",
    "convert = ['year', 'month', 'date', 'dayofweek', 'hour']\n",
    "for i in data:\n",
    "    for j in convert:\n",
    "        i[j] = i[j].astype('object')"
   ]
  },
  {
   "cell_type": "code",
   "execution_count": 63,
   "id": "c1c45d2f",
   "metadata": {},
   "outputs": [
    {
     "data": {
      "text/plain": [
       "fare_amount           float64\n",
       "pickup_longitude      float64\n",
       "pickup_latitude       float64\n",
       "dropoff_longitude     float64\n",
       "dropoff_latitude      float64\n",
       "passenger_count         int64\n",
       "haversine_distance    float64\n",
       "year                   object\n",
       "month                  object\n",
       "date                   object\n",
       "dayofweek              object\n",
       "hour                   object\n",
       "dtype: object"
      ]
     },
     "execution_count": 63,
     "metadata": {},
     "output_type": "execute_result"
    }
   ],
   "source": [
    "train.dtypes"
   ]
  },
  {
   "cell_type": "code",
   "execution_count": 64,
   "id": "46c5dd36",
   "metadata": {},
   "outputs": [
    {
     "data": {
      "text/plain": [
       "pickup_longitude      float64\n",
       "pickup_latitude       float64\n",
       "dropoff_longitude     float64\n",
       "dropoff_latitude      float64\n",
       "passenger_count         int64\n",
       "haversine_distance    float64\n",
       "year                   object\n",
       "month                  object\n",
       "date                   object\n",
       "dayofweek              object\n",
       "hour                   object\n",
       "dtype: object"
      ]
     },
     "execution_count": 64,
     "metadata": {},
     "output_type": "execute_result"
    }
   ],
   "source": [
    "test.dtypes"
   ]
  },
  {
   "cell_type": "code",
   "execution_count": 65,
   "id": "be64d27c",
   "metadata": {},
   "outputs": [],
   "source": [
    "numeric = list(train.select_dtypes(exclude='object'))\n",
    "categorical = list(train.select_dtypes(include='object'))"
   ]
  },
  {
   "cell_type": "code",
   "execution_count": 66,
   "id": "afb5e909",
   "metadata": {},
   "outputs": [
    {
     "data": {
      "text/html": [
       "<div>\n",
       "<style scoped>\n",
       "    .dataframe tbody tr th:only-of-type {\n",
       "        vertical-align: middle;\n",
       "    }\n",
       "\n",
       "    .dataframe tbody tr th {\n",
       "        vertical-align: top;\n",
       "    }\n",
       "\n",
       "    .dataframe thead th {\n",
       "        text-align: right;\n",
       "    }\n",
       "</style>\n",
       "<table border=\"1\" class=\"dataframe\">\n",
       "  <thead>\n",
       "    <tr style=\"text-align: right;\">\n",
       "      <th></th>\n",
       "      <th>fare_amount</th>\n",
       "      <th>pickup_longitude</th>\n",
       "      <th>pickup_latitude</th>\n",
       "      <th>dropoff_longitude</th>\n",
       "      <th>dropoff_latitude</th>\n",
       "      <th>passenger_count</th>\n",
       "      <th>haversine_distance</th>\n",
       "    </tr>\n",
       "  </thead>\n",
       "  <tbody>\n",
       "    <tr>\n",
       "      <th>fare_amount</th>\n",
       "      <td>1.000000</td>\n",
       "      <td>0.008083</td>\n",
       "      <td>-0.009432</td>\n",
       "      <td>0.007999</td>\n",
       "      <td>-0.009436</td>\n",
       "      <td>0.006532</td>\n",
       "      <td>0.711165</td>\n",
       "    </tr>\n",
       "    <tr>\n",
       "      <th>pickup_longitude</th>\n",
       "      <td>0.008083</td>\n",
       "      <td>1.000000</td>\n",
       "      <td>-0.983392</td>\n",
       "      <td>0.966321</td>\n",
       "      <td>-0.954371</td>\n",
       "      <td>-0.002322</td>\n",
       "      <td>0.065176</td>\n",
       "    </tr>\n",
       "    <tr>\n",
       "      <th>pickup_latitude</th>\n",
       "      <td>-0.009432</td>\n",
       "      <td>-0.983392</td>\n",
       "      <td>1.000000</td>\n",
       "      <td>-0.951667</td>\n",
       "      <td>0.972736</td>\n",
       "      <td>0.001396</td>\n",
       "      <td>-0.059800</td>\n",
       "    </tr>\n",
       "    <tr>\n",
       "      <th>dropoff_longitude</th>\n",
       "      <td>0.007999</td>\n",
       "      <td>0.966321</td>\n",
       "      <td>-0.951667</td>\n",
       "      <td>1.000000</td>\n",
       "      <td>-0.977828</td>\n",
       "      <td>-0.003102</td>\n",
       "      <td>0.065187</td>\n",
       "    </tr>\n",
       "    <tr>\n",
       "      <th>dropoff_latitude</th>\n",
       "      <td>-0.009436</td>\n",
       "      <td>-0.954371</td>\n",
       "      <td>0.972736</td>\n",
       "      <td>-0.977828</td>\n",
       "      <td>1.000000</td>\n",
       "      <td>0.001077</td>\n",
       "      <td>-0.060047</td>\n",
       "    </tr>\n",
       "    <tr>\n",
       "      <th>passenger_count</th>\n",
       "      <td>0.006532</td>\n",
       "      <td>-0.002322</td>\n",
       "      <td>0.001396</td>\n",
       "      <td>-0.003102</td>\n",
       "      <td>0.001077</td>\n",
       "      <td>1.000000</td>\n",
       "      <td>-0.005239</td>\n",
       "    </tr>\n",
       "    <tr>\n",
       "      <th>haversine_distance</th>\n",
       "      <td>0.711165</td>\n",
       "      <td>0.065176</td>\n",
       "      <td>-0.059800</td>\n",
       "      <td>0.065187</td>\n",
       "      <td>-0.060047</td>\n",
       "      <td>-0.005239</td>\n",
       "      <td>1.000000</td>\n",
       "    </tr>\n",
       "  </tbody>\n",
       "</table>\n",
       "</div>"
      ],
      "text/plain": [
       "                    fare_amount  pickup_longitude  pickup_latitude  \\\n",
       "fare_amount            1.000000          0.008083        -0.009432   \n",
       "pickup_longitude       0.008083          1.000000        -0.983392   \n",
       "pickup_latitude       -0.009432         -0.983392         1.000000   \n",
       "dropoff_longitude      0.007999          0.966321        -0.951667   \n",
       "dropoff_latitude      -0.009436         -0.954371         0.972736   \n",
       "passenger_count        0.006532         -0.002322         0.001396   \n",
       "haversine_distance     0.711165          0.065176        -0.059800   \n",
       "\n",
       "                    dropoff_longitude  dropoff_latitude  passenger_count  \\\n",
       "fare_amount                  0.007999         -0.009436         0.006532   \n",
       "pickup_longitude             0.966321         -0.954371        -0.002322   \n",
       "pickup_latitude             -0.951667          0.972736         0.001396   \n",
       "dropoff_longitude            1.000000         -0.977828        -0.003102   \n",
       "dropoff_latitude            -0.977828          1.000000         0.001077   \n",
       "passenger_count             -0.003102          0.001077         1.000000   \n",
       "haversine_distance           0.065187         -0.060047        -0.005239   \n",
       "\n",
       "                    haversine_distance  \n",
       "fare_amount                   0.711165  \n",
       "pickup_longitude              0.065176  \n",
       "pickup_latitude              -0.059800  \n",
       "dropoff_longitude             0.065187  \n",
       "dropoff_latitude             -0.060047  \n",
       "passenger_count              -0.005239  \n",
       "haversine_distance            1.000000  "
      ]
     },
     "execution_count": 66,
     "metadata": {},
     "output_type": "execute_result"
    }
   ],
   "source": [
    "data_corr = train.loc[:, numeric]\n",
    "cor = data_corr.corr()\n",
    "cor"
   ]
  },
  {
   "cell_type": "code",
   "execution_count": 67,
   "id": "62c1ab60",
   "metadata": {},
   "outputs": [
    {
     "data": {
      "image/png": "[encoded data removed]",
      "text/plain": [
       "<Figure size 720x720 with 2 Axes>"
      ]
     },
     "metadata": {
      "needs_background": "light"
     },
     "output_type": "display_data"
    }
   ],
   "source": [
    "plt.figure(figsize=(10,10))\n",
    "sns.heatmap(cor, annot=True)\n",
    "plt.show()"
   ]
  },
  {
   "cell_type": "code",
   "execution_count": 68,
   "id": "a16ef657",
   "metadata": {},
   "outputs": [
    {
     "name": "stdout",
     "output_type": "stream",
     "text": [
      "                sum_sq       df          F        PR(>F)\n",
      "year      2.154535e+04      6.0  38.964772  2.708192e-47\n",
      "Residual  1.464658e+06  15893.0        NaN           NaN\n",
      "                sum_sq       df         F    PR(>F)\n",
      "month     4.256708e+03     11.0  4.148756  0.000004\n",
      "Residual  1.481946e+06  15888.0       NaN       NaN\n",
      "                sum_sq       df         F    PR(>F)\n",
      "date      1.807641e+03     30.0  0.644156  0.932828\n",
      "Residual  1.484395e+06  15869.0       NaN       NaN\n",
      "                 sum_sq       df         F    PR(>F)\n",
      "dayofweek  6.955718e+02      6.0  1.240286  0.281988\n",
      "Residual   1.485507e+06  15893.0       NaN       NaN\n",
      "                sum_sq       df         F        PR(>F)\n",
      "hour      8.701746e+03     23.0  4.065292  1.981157e-10\n",
      "Residual  1.477501e+06  15876.0       NaN           NaN\n"
     ]
    }
   ],
   "source": [
    "# Anova test\n",
    "import statsmodels.api as sm\n",
    "from statsmodels.formula.api import ols\n",
    "for i in categorical:\n",
    "    mod = ols('fare_amount' + '~' + i, data = train).fit()\n",
    "    aov_table = sm.stats.anova_lm(mod, typ = 2)\n",
    "    print(aov_table)"
   ]
  },
  {
   "cell_type": "code",
   "execution_count": 69,
   "id": "faff478a",
   "metadata": {},
   "outputs": [],
   "source": [
    "# From Anova test date and day of week has p value greater than 0.05\n",
    "# Since we have calculated distance from co-ordinates so we can drop them\n",
    "\n",
    "train = train.drop(['date', 'dayofweek', 'pickup_longitude', 'pickup_latitude', 'dropoff_longitude', 'dropoff_latitude'], axis=1)\n",
    "test = test.drop(['date', 'dayofweek', 'pickup_longitude', 'pickup_latitude', 'dropoff_longitude', 'dropoff_latitude'], axis=1)"
   ]
  },
  {
   "cell_type": "code",
   "execution_count": 70,
   "id": "513e5e69",
   "metadata": {},
   "outputs": [
    {
     "data": {
      "text/plain": [
       "Index(['fare_amount', 'passenger_count', 'haversine_distance', 'year', 'month',\n",
       "       'hour'],\n",
       "      dtype='object')"
      ]
     },
     "execution_count": 70,
     "metadata": {},
     "output_type": "execute_result"
    }
   ],
   "source": [
    "train.columns"
   ]
  },
  {
   "cell_type": "markdown",
   "id": "43b90381",
   "metadata": {},
   "source": [
    "# Feature Scailing"
   ]
  },
  {
   "cell_type": "code",
   "execution_count": 71,
   "id": "37aeaac3",
   "metadata": {},
   "outputs": [
    {
     "data": {
      "image/png": "[encoded data removed]",
      "text/plain": [
       "<Figure size 432x288 with 1 Axes>"
      ]
     },
     "metadata": {
      "needs_background": "light"
     },
     "output_type": "display_data"
    }
   ],
   "source": [
    "sns.distplot(train['haversine_distance'], bins='auto')\n",
    "plt.title('Distance before scailing')\n",
    "plt.show()"
   ]
  },
  {
   "cell_type": "code",
   "execution_count": 72,
   "id": "9b04468e",
   "metadata": {},
   "outputs": [
    {
     "data": {
      "image/png": "[encoded data removed]",
      "text/plain": [
       "<Figure size 432x288 with 1 Axes>"
      ]
     },
     "metadata": {
      "needs_background": "light"
     },
     "output_type": "display_data"
    }
   ],
   "source": [
    "train['haversine_distance'] = np.log(train['haversine_distance']+1)\n",
    "sns.distplot(train['haversine_distance'], bins='auto')\n",
    "plt.title('Distance after log transformation')\n",
    "plt.show()"
   ]
  },
  {
   "cell_type": "code",
   "execution_count": 73,
   "id": "a132819c",
   "metadata": {},
   "outputs": [
    {
     "data": {
      "image/png": "[encoded data removed]",
      "text/plain": [
       "<Figure size 432x288 with 1 Axes>"
      ]
     },
     "metadata": {
      "needs_background": "light"
     },
     "output_type": "display_data"
    }
   ],
   "source": [
    "sns.distplot(train['fare_amount'], bins='auto')\n",
    "plt.title('Fare before scailing')\n",
    "plt.show()"
   ]
  },
  {
   "cell_type": "code",
   "execution_count": 74,
   "id": "9cb34e86",
   "metadata": {},
   "outputs": [
    {
     "data": {
      "image/png": "[encoded data removed]",
      "text/plain": [
       "<Figure size 432x288 with 1 Axes>"
      ]
     },
     "metadata": {
      "needs_background": "light"
     },
     "output_type": "display_data"
    }
   ],
   "source": [
    "train['fare_amount'] = np.log(train['fare_amount']+1)\n",
    "sns.distplot(train['fare_amount'], bins='auto')\n",
    "plt.title('Fare after log transformation')\n",
    "plt.show()"
   ]
  },
  {
   "cell_type": "code",
   "execution_count": 75,
   "id": "7ba25d5c",
   "metadata": {},
   "outputs": [
    {
     "data": {
      "image/png": "[encoded data removed]",
      "text/plain": [
       "<Figure size 432x288 with 1 Axes>"
      ]
     },
     "metadata": {
      "needs_background": "light"
     },
     "output_type": "display_data"
    }
   ],
   "source": [
    "sns.distplot(test['haversine_distance'], bins='auto')\n",
    "plt.title('Distance in test data before scailing')\n",
    "plt.show()"
   ]
  },
  {
   "cell_type": "code",
   "execution_count": 76,
   "id": "b4e0ed6e",
   "metadata": {},
   "outputs": [
    {
     "data": {
      "image/png": "[encoded data removed]",
      "text/plain": [
       "<Figure size 432x288 with 1 Axes>"
      ]
     },
     "metadata": {
      "needs_background": "light"
     },
     "output_type": "display_data"
    }
   ],
   "source": [
    "test['haversine_distance'] = np.log(test['haversine_distance']+1)\n",
    "sns.distplot(test['haversine_distance'], bins='auto')\n",
    "plt.title('Distance in test data after log transformation')\n",
    "plt.show()"
   ]
  },
  {
   "cell_type": "code",
   "execution_count": 77,
   "id": "5a9d716f",
   "metadata": {},
   "outputs": [],
   "source": [
    "#Separating features and target\n",
    "X = train.drop('fare_amount',axis=1)\n",
    "y = train[['fare_amount']]"
   ]
  },
  {
   "cell_type": "code",
   "execution_count": 78,
   "id": "8b978ac5",
   "metadata": {},
   "outputs": [],
   "source": [
    "X_train, X_test, y_train, y_test = train_test_split(X,y,train_size=0.8, random_state=1)"
   ]
  },
  {
   "cell_type": "markdown",
   "id": "8cfde5f0",
   "metadata": {},
   "source": [
    "# Linear Regression"
   ]
  },
  {
   "cell_type": "code",
   "execution_count": 79,
   "id": "e7e09ac3",
   "metadata": {},
   "outputs": [
    {
     "data": {
      "text/plain": [
       "LinearRegression()"
      ]
     },
     "execution_count": 79,
     "metadata": {},
     "output_type": "execute_result"
    }
   ],
   "source": [
    "lr = LinearRegression()\n",
    "lr.fit(X_train, y_train)"
   ]
  },
  {
   "cell_type": "code",
   "execution_count": 80,
   "id": "a18bd895",
   "metadata": {},
   "outputs": [],
   "source": [
    "pred = lr.predict(X_test)"
   ]
  },
  {
   "cell_type": "code",
   "execution_count": 81,
   "id": "0a42aabe",
   "metadata": {},
   "outputs": [
    {
     "data": {
      "text/plain": [
       "0.2637212346855098"
      ]
     },
     "execution_count": 81,
     "metadata": {},
     "output_type": "execute_result"
    }
   ],
   "source": [
    "np.sqrt(mean_squared_error(y_test, pred))"
   ]
  },
  {
   "cell_type": "code",
   "execution_count": 82,
   "id": "91db66cc",
   "metadata": {},
   "outputs": [
    {
     "data": {
      "text/plain": [
       "0.7666443620475851"
      ]
     },
     "execution_count": 82,
     "metadata": {},
     "output_type": "execute_result"
    }
   ],
   "source": [
    "r2_score(y_test, pred)"
   ]
  },
  {
   "cell_type": "markdown",
   "id": "5fd1aef5",
   "metadata": {},
   "source": [
    "# Decision Tree"
   ]
  },
  {
   "cell_type": "code",
   "execution_count": 83,
   "id": "9238d36a",
   "metadata": {},
   "outputs": [
    {
     "name": "stdout",
     "output_type": "stream",
     "text": [
      "rms using decision tree : 0.35095894740533223\n",
      "r square using decision tree is : 0.5867234769351011\n"
     ]
    }
   ],
   "source": [
    "dt = DecisionTreeRegressor()\n",
    "pred_dt = dt.fit(X_train, y_train).predict(X_test)\n",
    "print(f'rms using decision tree : {np.sqrt(mean_squared_error(y_test, pred_dt))}')\n",
    "print(f'r square using decision tree is : {r2_score(y_test, pred_dt)}')"
   ]
  },
  {
   "cell_type": "markdown",
   "id": "5d97ad86",
   "metadata": {},
   "source": [
    "# Random Forest"
   ]
  },
  {
   "cell_type": "code",
   "execution_count": 84,
   "id": "9b354330",
   "metadata": {},
   "outputs": [
    {
     "name": "stdout",
     "output_type": "stream",
     "text": [
      "rms using random forest : 0.25001998779636075\n",
      "r square using random forest is : 0.79026179028032\n"
     ]
    }
   ],
   "source": [
    "rf = RandomForestRegressor()\n",
    "pred_rf = rf.fit(X_train, y_train).predict(X_test)\n",
    "print(f'rms using random forest : {np.sqrt(mean_squared_error(y_test, pred_rf))}')\n",
    "print(f'r square using random forest is : {r2_score(y_test, pred_rf)}')"
   ]
  },
  {
   "cell_type": "markdown",
   "id": "50bd29ca",
   "metadata": {},
   "source": [
    "# Gradient Boosting"
   ]
  },
  {
   "cell_type": "code",
   "execution_count": 85,
   "id": "8522f1d9",
   "metadata": {},
   "outputs": [
    {
     "name": "stdout",
     "output_type": "stream",
     "text": [
      "rms using gradient boosting : 0.23916874790701997\n",
      "r square using gradient boosting is : 0.8080726100973918\n"
     ]
    }
   ],
   "source": [
    "gb = GradientBoostingRegressor()\n",
    "pred_gb = gb.fit(X_train, y_train).predict(X_test)\n",
    "print(f'rms using gradient boosting : {np.sqrt(mean_squared_error(y_test, pred_gb))}')\n",
    "print(f'r square using gradient boosting is : {r2_score(y_test, pred_gb)}')"
   ]
  },
  {
   "cell_type": "markdown",
   "id": "572bc6c7",
   "metadata": {},
   "source": [
    "# Hyperparameter Optimization"
   ]
  },
  {
   "cell_type": "code",
   "execution_count": 86,
   "id": "6fc194f8",
   "metadata": {},
   "outputs": [
    {
     "name": "stdout",
     "output_type": "stream",
     "text": [
      "Parameters currently used are\n"
     ]
    },
    {
     "data": {
      "text/plain": [
       "{'alpha': 0.9,\n",
       " 'ccp_alpha': 0.0,\n",
       " 'criterion': 'friedman_mse',\n",
       " 'init': None,\n",
       " 'learning_rate': 0.1,\n",
       " 'loss': 'squared_error',\n",
       " 'max_depth': 3,\n",
       " 'max_features': None,\n",
       " 'max_leaf_nodes': None,\n",
       " 'min_impurity_decrease': 0.0,\n",
       " 'min_samples_leaf': 1,\n",
       " 'min_samples_split': 2,\n",
       " 'min_weight_fraction_leaf': 0.0,\n",
       " 'n_estimators': 100,\n",
       " 'n_iter_no_change': None,\n",
       " 'random_state': None,\n",
       " 'subsample': 1.0,\n",
       " 'tol': 0.0001,\n",
       " 'validation_fraction': 0.1,\n",
       " 'verbose': 0,\n",
       " 'warm_start': False}"
      ]
     },
     "execution_count": 86,
     "metadata": {},
     "output_type": "execute_result"
    }
   ],
   "source": [
    "print('Parameters currently used are')\n",
    "gb.get_params()"
   ]
  },
  {
   "cell_type": "markdown",
   "id": "5d4ec2ad",
   "metadata": {},
   "source": [
    "# Randomized Search CV"
   ]
  },
  {
   "cell_type": "code",
   "execution_count": 87,
   "id": "caf8edea",
   "metadata": {},
   "outputs": [
    {
     "name": "stdout",
     "output_type": "stream",
     "text": [
      "Fitting 5 folds for each of 5 candidates, totalling 25 fits\n",
      "[CV] END loss=quantile, max_depth=1, min_samples_leaf=7, min_samples_split=7, n_estimators=108; total time=   0.3s\n",
      "[CV] END loss=quantile, max_depth=1, min_samples_leaf=7, min_samples_split=7, n_estimators=108; total time=   0.3s\n",
      "[CV] END loss=quantile, max_depth=1, min_samples_leaf=7, min_samples_split=7, n_estimators=108; total time=   0.2s\n",
      "[CV] END loss=quantile, max_depth=1, min_samples_leaf=7, min_samples_split=7, n_estimators=108; total time=   0.3s\n",
      "[CV] END loss=quantile, max_depth=1, min_samples_leaf=7, min_samples_split=7, n_estimators=108; total time=   0.2s\n",
      "[CV] END loss=quantile, max_depth=8, min_samples_leaf=5, min_samples_split=5, n_estimators=40; total time=   1.2s\n",
      "[CV] END loss=quantile, max_depth=8, min_samples_leaf=5, min_samples_split=5, n_estimators=40; total time=   1.3s\n",
      "[CV] END loss=quantile, max_depth=8, min_samples_leaf=5, min_samples_split=5, n_estimators=40; total time=   1.2s\n",
      "[CV] END loss=quantile, max_depth=8, min_samples_leaf=5, min_samples_split=5, n_estimators=40; total time=   1.3s\n",
      "[CV] END loss=quantile, max_depth=8, min_samples_leaf=5, min_samples_split=5, n_estimators=40; total time=   1.3s\n",
      "[CV] END loss=absolute_error, max_depth=7, min_samples_leaf=7, min_samples_split=9, n_estimators=47; total time=   1.2s\n",
      "[CV] END loss=absolute_error, max_depth=7, min_samples_leaf=7, min_samples_split=9, n_estimators=47; total time=   1.2s\n",
      "[CV] END loss=absolute_error, max_depth=7, min_samples_leaf=7, min_samples_split=9, n_estimators=47; total time=   1.2s\n",
      "[CV] END loss=absolute_error, max_depth=7, min_samples_leaf=7, min_samples_split=9, n_estimators=47; total time=   1.2s\n",
      "[CV] END loss=absolute_error, max_depth=7, min_samples_leaf=7, min_samples_split=9, n_estimators=47; total time=   1.2s\n",
      "[CV] END loss=huber, max_depth=6, min_samples_leaf=3, min_samples_split=7, n_estimators=113; total time=   2.1s\n",
      "[CV] END loss=huber, max_depth=6, min_samples_leaf=3, min_samples_split=7, n_estimators=113; total time=   2.1s\n",
      "[CV] END loss=huber, max_depth=6, min_samples_leaf=3, min_samples_split=7, n_estimators=113; total time=   2.2s\n",
      "[CV] END loss=huber, max_depth=6, min_samples_leaf=3, min_samples_split=7, n_estimators=113; total time=   2.1s\n",
      "[CV] END loss=huber, max_depth=6, min_samples_leaf=3, min_samples_split=7, n_estimators=113; total time=   2.1s\n",
      "[CV] END loss=huber, max_depth=3, min_samples_leaf=5, min_samples_split=7, n_estimators=28; total time=   0.2s\n",
      "[CV] END loss=huber, max_depth=3, min_samples_leaf=5, min_samples_split=7, n_estimators=28; total time=   0.2s\n",
      "[CV] END loss=huber, max_depth=3, min_samples_leaf=5, min_samples_split=7, n_estimators=28; total time=   0.2s\n",
      "[CV] END loss=huber, max_depth=3, min_samples_leaf=5, min_samples_split=7, n_estimators=28; total time=   0.2s\n",
      "[CV] END loss=huber, max_depth=3, min_samples_leaf=5, min_samples_split=7, n_estimators=28; total time=   0.2s\n",
      "root mean squared using randomized search : 0.23619068258357212\n",
      "r square using randomized search : 0.8128225097115954\n"
     ]
    },
    {
     "data": {
      "text/plain": [
       "{'n_estimators': 47,\n",
       " 'min_samples_split': 9,\n",
       " 'min_samples_leaf': 7,\n",
       " 'max_depth': 7,\n",
       " 'loss': 'absolute_error'}"
      ]
     },
     "execution_count": 87,
     "metadata": {},
     "output_type": "execute_result"
    }
   ],
   "source": [
    "param_grid = {'loss' : ['squared_error', 'absolute_error', 'huber', 'quantile'],\n",
    "             'min_samples_leaf' : list(range(1,10,2)),\n",
    "             'min_samples_split' : list(range(1,10,2)),\n",
    "             'n_estimators' : list(range(1,150)),\n",
    "             'max_depth' : list(range(1,10)),\n",
    "             }\n",
    "rsc_gb = RandomizedSearchCV(gb, param_distributions=param_grid, n_iter=5, cv=5, verbose=2)\n",
    "rsc_gb.fit(X_train, y_train)\n",
    "rsc_gb_pred = rsc_gb.predict(X_test)\n",
    "print(f'root mean squared using randomized search : {np.sqrt(mean_squared_error(y_test,rsc_gb_pred))}')\n",
    "print(f'r square using randomized search : {r2_score(y_test, rsc_gb_pred)}')\n",
    "rsc_gb.best_params_"
   ]
  },
  {
   "cell_type": "code",
   "execution_count": 88,
   "id": "9794e288",
   "metadata": {},
   "outputs": [
    {
     "data": {
      "text/html": [
       "<div>\n",
       "<style scoped>\n",
       "    .dataframe tbody tr th:only-of-type {\n",
       "        vertical-align: middle;\n",
       "    }\n",
       "\n",
       "    .dataframe tbody tr th {\n",
       "        vertical-align: top;\n",
       "    }\n",
       "\n",
       "    .dataframe thead th {\n",
       "        text-align: right;\n",
       "    }\n",
       "</style>\n",
       "<table border=\"1\" class=\"dataframe\">\n",
       "  <thead>\n",
       "    <tr style=\"text-align: right;\">\n",
       "      <th></th>\n",
       "      <th>passenger_count</th>\n",
       "      <th>haversine_distance</th>\n",
       "      <th>year</th>\n",
       "      <th>month</th>\n",
       "      <th>hour</th>\n",
       "      <th>Predicted Fare</th>\n",
       "    </tr>\n",
       "  </thead>\n",
       "  <tbody>\n",
       "    <tr>\n",
       "      <th>0</th>\n",
       "      <td>1</td>\n",
       "      <td>1.200946</td>\n",
       "      <td>2015</td>\n",
       "      <td>1</td>\n",
       "      <td>13</td>\n",
       "      <td>2.378319</td>\n",
       "    </tr>\n",
       "    <tr>\n",
       "      <th>1</th>\n",
       "      <td>1</td>\n",
       "      <td>1.231205</td>\n",
       "      <td>2015</td>\n",
       "      <td>1</td>\n",
       "      <td>13</td>\n",
       "      <td>2.375703</td>\n",
       "    </tr>\n",
       "    <tr>\n",
       "      <th>2</th>\n",
       "      <td>1</td>\n",
       "      <td>0.481579</td>\n",
       "      <td>2011</td>\n",
       "      <td>10</td>\n",
       "      <td>11</td>\n",
       "      <td>1.640964</td>\n",
       "    </tr>\n",
       "    <tr>\n",
       "      <th>3</th>\n",
       "      <td>1</td>\n",
       "      <td>1.085538</td>\n",
       "      <td>2012</td>\n",
       "      <td>12</td>\n",
       "      <td>21</td>\n",
       "      <td>2.209227</td>\n",
       "    </tr>\n",
       "    <tr>\n",
       "      <th>4</th>\n",
       "      <td>1</td>\n",
       "      <td>1.854312</td>\n",
       "      <td>2012</td>\n",
       "      <td>12</td>\n",
       "      <td>21</td>\n",
       "      <td>2.754455</td>\n",
       "    </tr>\n",
       "    <tr>\n",
       "      <th>...</th>\n",
       "      <td>...</td>\n",
       "      <td>...</td>\n",
       "      <td>...</td>\n",
       "      <td>...</td>\n",
       "      <td>...</td>\n",
       "      <td>...</td>\n",
       "    </tr>\n",
       "    <tr>\n",
       "      <th>9909</th>\n",
       "      <td>6</td>\n",
       "      <td>1.139394</td>\n",
       "      <td>2015</td>\n",
       "      <td>5</td>\n",
       "      <td>12</td>\n",
       "      <td>2.381108</td>\n",
       "    </tr>\n",
       "    <tr>\n",
       "      <th>9910</th>\n",
       "      <td>6</td>\n",
       "      <td>1.451841</td>\n",
       "      <td>2015</td>\n",
       "      <td>1</td>\n",
       "      <td>17</td>\n",
       "      <td>2.577328</td>\n",
       "    </tr>\n",
       "    <tr>\n",
       "      <th>9911</th>\n",
       "      <td>6</td>\n",
       "      <td>3.004887</td>\n",
       "      <td>2015</td>\n",
       "      <td>4</td>\n",
       "      <td>20</td>\n",
       "      <td>3.922078</td>\n",
       "    </tr>\n",
       "    <tr>\n",
       "      <th>9912</th>\n",
       "      <td>6</td>\n",
       "      <td>2.234679</td>\n",
       "      <td>2015</td>\n",
       "      <td>1</td>\n",
       "      <td>1</td>\n",
       "      <td>3.204870</td>\n",
       "    </tr>\n",
       "    <tr>\n",
       "      <th>9913</th>\n",
       "      <td>6</td>\n",
       "      <td>0.779703</td>\n",
       "      <td>2015</td>\n",
       "      <td>1</td>\n",
       "      <td>14</td>\n",
       "      <td>1.997866</td>\n",
       "    </tr>\n",
       "  </tbody>\n",
       "</table>\n",
       "<p>9914 rows × 6 columns</p>\n",
       "</div>"
      ],
      "text/plain": [
       "      passenger_count  haversine_distance  year month hour  Predicted Fare\n",
       "0                   1            1.200946  2015     1   13        2.378319\n",
       "1                   1            1.231205  2015     1   13        2.375703\n",
       "2                   1            0.481579  2011    10   11        1.640964\n",
       "3                   1            1.085538  2012    12   21        2.209227\n",
       "4                   1            1.854312  2012    12   21        2.754455\n",
       "...               ...                 ...   ...   ...  ...             ...\n",
       "9909                6            1.139394  2015     5   12        2.381108\n",
       "9910                6            1.451841  2015     1   17        2.577328\n",
       "9911                6            3.004887  2015     4   20        3.922078\n",
       "9912                6            2.234679  2015     1    1        3.204870\n",
       "9913                6            0.779703  2015     1   14        1.997866\n",
       "\n",
       "[9914 rows x 6 columns]"
      ]
     },
     "execution_count": 88,
     "metadata": {},
     "output_type": "execute_result"
    }
   ],
   "source": [
    "test_prediction = rsc_gb.predict(test)\n",
    "test['Predicted Fare'] = test_prediction\n",
    "test"
   ]
  },
  {
   "cell_type": "code",
   "execution_count": 89,
   "id": "062eafc6",
   "metadata": {},
   "outputs": [],
   "source": [
    "filename = 'Cab fare prediction.pkl'\n",
    "pickle.dump(rsc_gb,open(filename,'wb'))"
   ]
  }
 ],
 "metadata": {
  "kernelspec": {
   "display_name": "cab_prediction",
   "language": "python",
   "name": "cab_prediction"
  },
  "language_info": {
   "codemirror_mode": {
    "name": "ipython",
    "version": 3
   },
   "file_extension": ".py",
   "mimetype": "text/x-python",
   "name": "python",
   "nbconvert_exporter": "python",
   "pygments_lexer": "ipython3",
   "version": "3.8.8"
  }
 },
 "nbformat": 4,
 "nbformat_minor": 5
}
